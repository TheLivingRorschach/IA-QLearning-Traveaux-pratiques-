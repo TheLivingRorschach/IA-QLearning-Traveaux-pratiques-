{
  "nbformat": 4,
  "nbformat_minor": 0,
  "metadata": {
    "colab": {
      "name": "tp3_4_RL_lunarlander.ipynb",
      "provenance": [],
      "collapsed_sections": []
    },
    "kernelspec": {
      "display_name": "Python 3",
      "language": "python",
      "name": "python3"
    },
    "language_info": {
      "codemirror_mode": {
        "name": "ipython",
        "version": 3
      },
      "file_extension": ".py",
      "mimetype": "text/x-python",
      "name": "python",
      "nbconvert_exporter": "python",
      "pygments_lexer": "ipython3",
      "version": "3.8.3"
    },
    "widgets": {
      "application/vnd.jupyter.widget-state+json": {
        "1eb99f7a828c4199899138fe4ef63591": {
          "model_module": "@jupyter-widgets/controls",
          "model_name": "HBoxModel",
          "state": {
            "_view_name": "HBoxView",
            "_dom_classes": [],
            "_model_name": "HBoxModel",
            "_view_module": "@jupyter-widgets/controls",
            "_model_module_version": "1.5.0",
            "_view_count": null,
            "_view_module_version": "1.5.0",
            "box_style": "",
            "layout": "IPY_MODEL_84e0a200ccf044e4852be870090f1f25",
            "_model_module": "@jupyter-widgets/controls",
            "children": [
              "IPY_MODEL_0eac36506aa04f168bd5e14bb6cd7bfc",
              "IPY_MODEL_976a19ca3ea148e9b318c9d4df10cf70"
            ]
          }
        },
        "84e0a200ccf044e4852be870090f1f25": {
          "model_module": "@jupyter-widgets/base",
          "model_name": "LayoutModel",
          "state": {
            "_view_name": "LayoutView",
            "grid_template_rows": null,
            "right": null,
            "justify_content": null,
            "_view_module": "@jupyter-widgets/base",
            "overflow": null,
            "_model_module_version": "1.2.0",
            "_view_count": null,
            "flex_flow": null,
            "width": null,
            "min_width": null,
            "border": null,
            "align_items": null,
            "bottom": null,
            "_model_module": "@jupyter-widgets/base",
            "top": null,
            "grid_column": null,
            "overflow_y": null,
            "overflow_x": null,
            "grid_auto_flow": null,
            "grid_area": null,
            "grid_template_columns": null,
            "flex": null,
            "_model_name": "LayoutModel",
            "justify_items": null,
            "grid_row": null,
            "max_height": null,
            "align_content": null,
            "visibility": null,
            "align_self": null,
            "height": null,
            "min_height": null,
            "padding": null,
            "grid_auto_rows": null,
            "grid_gap": null,
            "max_width": null,
            "order": null,
            "_view_module_version": "1.2.0",
            "grid_template_areas": null,
            "object_position": null,
            "object_fit": null,
            "grid_auto_columns": null,
            "margin": null,
            "display": null,
            "left": null
          }
        },
        "0eac36506aa04f168bd5e14bb6cd7bfc": {
          "model_module": "@jupyter-widgets/controls",
          "model_name": "FloatProgressModel",
          "state": {
            "_view_name": "ProgressView",
            "style": "IPY_MODEL_4507da8929484845a8f0ec70f8a4c099",
            "_dom_classes": [],
            "description": "100%",
            "_model_name": "FloatProgressModel",
            "bar_style": "success",
            "max": 1000,
            "_view_module": "@jupyter-widgets/controls",
            "_model_module_version": "1.5.0",
            "value": 1000,
            "_view_count": null,
            "_view_module_version": "1.5.0",
            "orientation": "horizontal",
            "min": 0,
            "description_tooltip": null,
            "_model_module": "@jupyter-widgets/controls",
            "layout": "IPY_MODEL_b62e668f5baa434884ea3588e4a33e6d"
          }
        },
        "976a19ca3ea148e9b318c9d4df10cf70": {
          "model_module": "@jupyter-widgets/controls",
          "model_name": "HTMLModel",
          "state": {
            "_view_name": "HTMLView",
            "style": "IPY_MODEL_3e8a05c4e93a43029d4aabdc5d4e45dc",
            "_dom_classes": [],
            "description": "",
            "_model_name": "HTMLModel",
            "placeholder": "​",
            "_view_module": "@jupyter-widgets/controls",
            "_model_module_version": "1.5.0",
            "value": " 1000/1000 [00:23&lt;00:00, 43.46it/s]",
            "_view_count": null,
            "_view_module_version": "1.5.0",
            "description_tooltip": null,
            "_model_module": "@jupyter-widgets/controls",
            "layout": "IPY_MODEL_cb4e0a3f9f2045cb87bfa67b724326bd"
          }
        },
        "4507da8929484845a8f0ec70f8a4c099": {
          "model_module": "@jupyter-widgets/controls",
          "model_name": "ProgressStyleModel",
          "state": {
            "_view_name": "StyleView",
            "_model_name": "ProgressStyleModel",
            "description_width": "initial",
            "_view_module": "@jupyter-widgets/base",
            "_model_module_version": "1.5.0",
            "_view_count": null,
            "_view_module_version": "1.2.0",
            "bar_color": null,
            "_model_module": "@jupyter-widgets/controls"
          }
        },
        "b62e668f5baa434884ea3588e4a33e6d": {
          "model_module": "@jupyter-widgets/base",
          "model_name": "LayoutModel",
          "state": {
            "_view_name": "LayoutView",
            "grid_template_rows": null,
            "right": null,
            "justify_content": null,
            "_view_module": "@jupyter-widgets/base",
            "overflow": null,
            "_model_module_version": "1.2.0",
            "_view_count": null,
            "flex_flow": null,
            "width": null,
            "min_width": null,
            "border": null,
            "align_items": null,
            "bottom": null,
            "_model_module": "@jupyter-widgets/base",
            "top": null,
            "grid_column": null,
            "overflow_y": null,
            "overflow_x": null,
            "grid_auto_flow": null,
            "grid_area": null,
            "grid_template_columns": null,
            "flex": null,
            "_model_name": "LayoutModel",
            "justify_items": null,
            "grid_row": null,
            "max_height": null,
            "align_content": null,
            "visibility": null,
            "align_self": null,
            "height": null,
            "min_height": null,
            "padding": null,
            "grid_auto_rows": null,
            "grid_gap": null,
            "max_width": null,
            "order": null,
            "_view_module_version": "1.2.0",
            "grid_template_areas": null,
            "object_position": null,
            "object_fit": null,
            "grid_auto_columns": null,
            "margin": null,
            "display": null,
            "left": null
          }
        },
        "3e8a05c4e93a43029d4aabdc5d4e45dc": {
          "model_module": "@jupyter-widgets/controls",
          "model_name": "DescriptionStyleModel",
          "state": {
            "_view_name": "StyleView",
            "_model_name": "DescriptionStyleModel",
            "description_width": "",
            "_view_module": "@jupyter-widgets/base",
            "_model_module_version": "1.5.0",
            "_view_count": null,
            "_view_module_version": "1.2.0",
            "_model_module": "@jupyter-widgets/controls"
          }
        },
        "cb4e0a3f9f2045cb87bfa67b724326bd": {
          "model_module": "@jupyter-widgets/base",
          "model_name": "LayoutModel",
          "state": {
            "_view_name": "LayoutView",
            "grid_template_rows": null,
            "right": null,
            "justify_content": null,
            "_view_module": "@jupyter-widgets/base",
            "overflow": null,
            "_model_module_version": "1.2.0",
            "_view_count": null,
            "flex_flow": null,
            "width": null,
            "min_width": null,
            "border": null,
            "align_items": null,
            "bottom": null,
            "_model_module": "@jupyter-widgets/base",
            "top": null,
            "grid_column": null,
            "overflow_y": null,
            "overflow_x": null,
            "grid_auto_flow": null,
            "grid_area": null,
            "grid_template_columns": null,
            "flex": null,
            "_model_name": "LayoutModel",
            "justify_items": null,
            "grid_row": null,
            "max_height": null,
            "align_content": null,
            "visibility": null,
            "align_self": null,
            "height": null,
            "min_height": null,
            "padding": null,
            "grid_auto_rows": null,
            "grid_gap": null,
            "max_width": null,
            "order": null,
            "_view_module_version": "1.2.0",
            "grid_template_areas": null,
            "object_position": null,
            "object_fit": null,
            "grid_auto_columns": null,
            "margin": null,
            "display": null,
            "left": null
          }
        },
        "5763e7662c44452aa5a2003a49750994": {
          "model_module": "@jupyter-widgets/output",
          "model_name": "OutputModel",
          "state": {
            "_view_name": "OutputView",
            "msg_id": "",
            "_dom_classes": [],
            "_model_name": "OutputModel",
            "outputs": [
              {
                "output_type": "display_data",
                "metadata": {
                  "tags": [],
                  "needs_background": "light"
                },
                "image/png": "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\n",
                "text/plain": "<Figure size 864x576 with 2 Axes>"
              },
              {
                "output_type": "stream",
                "metadata": {
                  "tags": []
                },
                "text": "Episode Total Reward\n\tEpisode Total Reward \t (min: -655.527, max:   48.979, cur: -229.236)\nMean Total Reward\n\tMean Total Reward \t (min: -402.171, max:  -55.050, cur: -171.605)\n",
                "stream": "stdout"
              }
            ],
            "_view_module": "@jupyter-widgets/output",
            "_model_module_version": "1.0.0",
            "_view_count": null,
            "_view_module_version": "1.0.0",
            "layout": "IPY_MODEL_4cd5d912f84e4227a5101a73f05386f0",
            "_model_module": "@jupyter-widgets/output"
          }
        },
        "4cd5d912f84e4227a5101a73f05386f0": {
          "model_module": "@jupyter-widgets/base",
          "model_name": "LayoutModel",
          "state": {
            "_view_name": "LayoutView",
            "grid_template_rows": null,
            "right": null,
            "justify_content": null,
            "_view_module": "@jupyter-widgets/base",
            "overflow": null,
            "_model_module_version": "1.2.0",
            "_view_count": null,
            "flex_flow": null,
            "width": null,
            "min_width": null,
            "border": null,
            "align_items": null,
            "bottom": null,
            "_model_module": "@jupyter-widgets/base",
            "top": null,
            "grid_column": null,
            "overflow_y": null,
            "overflow_x": null,
            "grid_auto_flow": null,
            "grid_area": null,
            "grid_template_columns": null,
            "flex": null,
            "_model_name": "LayoutModel",
            "justify_items": null,
            "grid_row": null,
            "max_height": null,
            "align_content": null,
            "visibility": null,
            "align_self": null,
            "height": null,
            "min_height": null,
            "padding": null,
            "grid_auto_rows": null,
            "grid_gap": null,
            "max_width": null,
            "order": null,
            "_view_module_version": "1.2.0",
            "grid_template_areas": null,
            "object_position": null,
            "object_fit": null,
            "grid_auto_columns": null,
            "margin": null,
            "display": null,
            "left": null
          }
        },
        "d77bf6775e28465fa1b204fabb47c1db": {
          "model_module": "@jupyter-widgets/controls",
          "model_name": "HBoxModel",
          "state": {
            "_view_name": "HBoxView",
            "_dom_classes": [],
            "_model_name": "HBoxModel",
            "_view_module": "@jupyter-widgets/controls",
            "_model_module_version": "1.5.0",
            "_view_count": null,
            "_view_module_version": "1.5.0",
            "box_style": "",
            "layout": "IPY_MODEL_68a524fc756c4f53b13b6e12de307041",
            "_model_module": "@jupyter-widgets/controls",
            "children": [
              "IPY_MODEL_68f91b05aa014f328ec65e44e5465b48",
              "IPY_MODEL_a40f71855d8d484fa92c45ae9671b1eb"
            ]
          }
        },
        "68a524fc756c4f53b13b6e12de307041": {
          "model_module": "@jupyter-widgets/base",
          "model_name": "LayoutModel",
          "state": {
            "_view_name": "LayoutView",
            "grid_template_rows": null,
            "right": null,
            "justify_content": null,
            "_view_module": "@jupyter-widgets/base",
            "overflow": null,
            "_model_module_version": "1.2.0",
            "_view_count": null,
            "flex_flow": null,
            "width": null,
            "min_width": null,
            "border": null,
            "align_items": null,
            "bottom": null,
            "_model_module": "@jupyter-widgets/base",
            "top": null,
            "grid_column": null,
            "overflow_y": null,
            "overflow_x": null,
            "grid_auto_flow": null,
            "grid_area": null,
            "grid_template_columns": null,
            "flex": null,
            "_model_name": "LayoutModel",
            "justify_items": null,
            "grid_row": null,
            "max_height": null,
            "align_content": null,
            "visibility": null,
            "align_self": null,
            "height": null,
            "min_height": null,
            "padding": null,
            "grid_auto_rows": null,
            "grid_gap": null,
            "max_width": null,
            "order": null,
            "_view_module_version": "1.2.0",
            "grid_template_areas": null,
            "object_position": null,
            "object_fit": null,
            "grid_auto_columns": null,
            "margin": null,
            "display": null,
            "left": null
          }
        },
        "68f91b05aa014f328ec65e44e5465b48": {
          "model_module": "@jupyter-widgets/controls",
          "model_name": "FloatProgressModel",
          "state": {
            "_view_name": "ProgressView",
            "style": "IPY_MODEL_832da60e04de4019b5862abde99aab8a",
            "_dom_classes": [],
            "description": "100%",
            "_model_name": "FloatProgressModel",
            "bar_style": "success",
            "max": 1000,
            "_view_module": "@jupyter-widgets/controls",
            "_model_module_version": "1.5.0",
            "value": 1000,
            "_view_count": null,
            "_view_module_version": "1.5.0",
            "orientation": "horizontal",
            "min": 0,
            "description_tooltip": null,
            "_model_module": "@jupyter-widgets/controls",
            "layout": "IPY_MODEL_801f52f8bcd44ebf985997de5b798910"
          }
        },
        "a40f71855d8d484fa92c45ae9671b1eb": {
          "model_module": "@jupyter-widgets/controls",
          "model_name": "HTMLModel",
          "state": {
            "_view_name": "HTMLView",
            "style": "IPY_MODEL_ca46a48024c7445e9eeef30b81635989",
            "_dom_classes": [],
            "description": "",
            "_model_name": "HTMLModel",
            "placeholder": "​",
            "_view_module": "@jupyter-widgets/controls",
            "_model_module_version": "1.5.0",
            "value": " 1000/1000 [04:16&lt;00:00,  3.90it/s]",
            "_view_count": null,
            "_view_module_version": "1.5.0",
            "description_tooltip": null,
            "_model_module": "@jupyter-widgets/controls",
            "layout": "IPY_MODEL_613db2d001654693952091d34fb5a7c7"
          }
        },
        "832da60e04de4019b5862abde99aab8a": {
          "model_module": "@jupyter-widgets/controls",
          "model_name": "ProgressStyleModel",
          "state": {
            "_view_name": "StyleView",
            "_model_name": "ProgressStyleModel",
            "description_width": "initial",
            "_view_module": "@jupyter-widgets/base",
            "_model_module_version": "1.5.0",
            "_view_count": null,
            "_view_module_version": "1.2.0",
            "bar_color": null,
            "_model_module": "@jupyter-widgets/controls"
          }
        },
        "801f52f8bcd44ebf985997de5b798910": {
          "model_module": "@jupyter-widgets/base",
          "model_name": "LayoutModel",
          "state": {
            "_view_name": "LayoutView",
            "grid_template_rows": null,
            "right": null,
            "justify_content": null,
            "_view_module": "@jupyter-widgets/base",
            "overflow": null,
            "_model_module_version": "1.2.0",
            "_view_count": null,
            "flex_flow": null,
            "width": null,
            "min_width": null,
            "border": null,
            "align_items": null,
            "bottom": null,
            "_model_module": "@jupyter-widgets/base",
            "top": null,
            "grid_column": null,
            "overflow_y": null,
            "overflow_x": null,
            "grid_auto_flow": null,
            "grid_area": null,
            "grid_template_columns": null,
            "flex": null,
            "_model_name": "LayoutModel",
            "justify_items": null,
            "grid_row": null,
            "max_height": null,
            "align_content": null,
            "visibility": null,
            "align_self": null,
            "height": null,
            "min_height": null,
            "padding": null,
            "grid_auto_rows": null,
            "grid_gap": null,
            "max_width": null,
            "order": null,
            "_view_module_version": "1.2.0",
            "grid_template_areas": null,
            "object_position": null,
            "object_fit": null,
            "grid_auto_columns": null,
            "margin": null,
            "display": null,
            "left": null
          }
        },
        "ca46a48024c7445e9eeef30b81635989": {
          "model_module": "@jupyter-widgets/controls",
          "model_name": "DescriptionStyleModel",
          "state": {
            "_view_name": "StyleView",
            "_model_name": "DescriptionStyleModel",
            "description_width": "",
            "_view_module": "@jupyter-widgets/base",
            "_model_module_version": "1.5.0",
            "_view_count": null,
            "_view_module_version": "1.2.0",
            "_model_module": "@jupyter-widgets/controls"
          }
        },
        "613db2d001654693952091d34fb5a7c7": {
          "model_module": "@jupyter-widgets/base",
          "model_name": "LayoutModel",
          "state": {
            "_view_name": "LayoutView",
            "grid_template_rows": null,
            "right": null,
            "justify_content": null,
            "_view_module": "@jupyter-widgets/base",
            "overflow": null,
            "_model_module_version": "1.2.0",
            "_view_count": null,
            "flex_flow": null,
            "width": null,
            "min_width": null,
            "border": null,
            "align_items": null,
            "bottom": null,
            "_model_module": "@jupyter-widgets/base",
            "top": null,
            "grid_column": null,
            "overflow_y": null,
            "overflow_x": null,
            "grid_auto_flow": null,
            "grid_area": null,
            "grid_template_columns": null,
            "flex": null,
            "_model_name": "LayoutModel",
            "justify_items": null,
            "grid_row": null,
            "max_height": null,
            "align_content": null,
            "visibility": null,
            "align_self": null,
            "height": null,
            "min_height": null,
            "padding": null,
            "grid_auto_rows": null,
            "grid_gap": null,
            "max_width": null,
            "order": null,
            "_view_module_version": "1.2.0",
            "grid_template_areas": null,
            "object_position": null,
            "object_fit": null,
            "grid_auto_columns": null,
            "margin": null,
            "display": null,
            "left": null
          }
        },
        "c7eef907a3df4c1f922d8284e49fe93d": {
          "model_module": "@jupyter-widgets/output",
          "model_name": "OutputModel",
          "state": {
            "_view_name": "OutputView",
            "msg_id": "",
            "_dom_classes": [],
            "_model_name": "OutputModel",
            "outputs": [
              {
                "output_type": "display_data",
                "metadata": {
                  "tags": [],
                  "needs_background": "light"
                },
                "image/png": "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\n",
                "text/plain": "<Figure size 864x576 with 2 Axes>"
              },
              {
                "output_type": "stream",
                "metadata": {
                  "tags": []
                },
                "text": "Episode Total Reward\n\tEpisode Total Reward \t (min: -539.727, max:   43.149, cur: -496.405)\nMean Total Reward\n\tMean Total Reward \t (min: -318.074, max:  -65.696, cur: -189.620)\n",
                "stream": "stdout"
              }
            ],
            "_view_module": "@jupyter-widgets/output",
            "_model_module_version": "1.0.0",
            "_view_count": null,
            "_view_module_version": "1.0.0",
            "layout": "IPY_MODEL_0394ff8bc68d44dcaef300669a88c7f0",
            "_model_module": "@jupyter-widgets/output"
          }
        },
        "0394ff8bc68d44dcaef300669a88c7f0": {
          "model_module": "@jupyter-widgets/base",
          "model_name": "LayoutModel",
          "state": {
            "_view_name": "LayoutView",
            "grid_template_rows": null,
            "right": null,
            "justify_content": null,
            "_view_module": "@jupyter-widgets/base",
            "overflow": null,
            "_model_module_version": "1.2.0",
            "_view_count": null,
            "flex_flow": null,
            "width": null,
            "min_width": null,
            "border": null,
            "align_items": null,
            "bottom": null,
            "_model_module": "@jupyter-widgets/base",
            "top": null,
            "grid_column": null,
            "overflow_y": null,
            "overflow_x": null,
            "grid_auto_flow": null,
            "grid_area": null,
            "grid_template_columns": null,
            "flex": null,
            "_model_name": "LayoutModel",
            "justify_items": null,
            "grid_row": null,
            "max_height": null,
            "align_content": null,
            "visibility": null,
            "align_self": null,
            "height": null,
            "min_height": null,
            "padding": null,
            "grid_auto_rows": null,
            "grid_gap": null,
            "max_width": null,
            "order": null,
            "_view_module_version": "1.2.0",
            "grid_template_areas": null,
            "object_position": null,
            "object_fit": null,
            "grid_auto_columns": null,
            "margin": null,
            "display": null,
            "left": null
          }
        },
        "30aee5a0178a4f4e8685aa5566fd7b4f": {
          "model_module": "@jupyter-widgets/controls",
          "model_name": "HBoxModel",
          "state": {
            "_view_name": "HBoxView",
            "_dom_classes": [],
            "_model_name": "HBoxModel",
            "_view_module": "@jupyter-widgets/controls",
            "_model_module_version": "1.5.0",
            "_view_count": null,
            "_view_module_version": "1.5.0",
            "box_style": "",
            "layout": "IPY_MODEL_50056f53725947148e2a3ecc056873e0",
            "_model_module": "@jupyter-widgets/controls",
            "children": [
              "IPY_MODEL_8ea8c8b49b514f2b8355fa444f1df2d7",
              "IPY_MODEL_2945f0557ffb4d70badb9f812c87c0b3"
            ]
          }
        },
        "50056f53725947148e2a3ecc056873e0": {
          "model_module": "@jupyter-widgets/base",
          "model_name": "LayoutModel",
          "state": {
            "_view_name": "LayoutView",
            "grid_template_rows": null,
            "right": null,
            "justify_content": null,
            "_view_module": "@jupyter-widgets/base",
            "overflow": null,
            "_model_module_version": "1.2.0",
            "_view_count": null,
            "flex_flow": null,
            "width": null,
            "min_width": null,
            "border": null,
            "align_items": null,
            "bottom": null,
            "_model_module": "@jupyter-widgets/base",
            "top": null,
            "grid_column": null,
            "overflow_y": null,
            "overflow_x": null,
            "grid_auto_flow": null,
            "grid_area": null,
            "grid_template_columns": null,
            "flex": null,
            "_model_name": "LayoutModel",
            "justify_items": null,
            "grid_row": null,
            "max_height": null,
            "align_content": null,
            "visibility": null,
            "align_self": null,
            "height": null,
            "min_height": null,
            "padding": null,
            "grid_auto_rows": null,
            "grid_gap": null,
            "max_width": null,
            "order": null,
            "_view_module_version": "1.2.0",
            "grid_template_areas": null,
            "object_position": null,
            "object_fit": null,
            "grid_auto_columns": null,
            "margin": null,
            "display": null,
            "left": null
          }
        },
        "8ea8c8b49b514f2b8355fa444f1df2d7": {
          "model_module": "@jupyter-widgets/controls",
          "model_name": "FloatProgressModel",
          "state": {
            "_view_name": "ProgressView",
            "style": "IPY_MODEL_ab1ec7ef25834fc1bcf12a123d70804e",
            "_dom_classes": [],
            "description": "100%",
            "_model_name": "FloatProgressModel",
            "bar_style": "success",
            "max": 250,
            "_view_module": "@jupyter-widgets/controls",
            "_model_module_version": "1.5.0",
            "value": 250,
            "_view_count": null,
            "_view_module_version": "1.5.0",
            "orientation": "horizontal",
            "min": 0,
            "description_tooltip": null,
            "_model_module": "@jupyter-widgets/controls",
            "layout": "IPY_MODEL_3331c1dc27a24fbea565af953ec04205"
          }
        },
        "2945f0557ffb4d70badb9f812c87c0b3": {
          "model_module": "@jupyter-widgets/controls",
          "model_name": "HTMLModel",
          "state": {
            "_view_name": "HTMLView",
            "style": "IPY_MODEL_69b2ffea24904a6db04457ace9e4d159",
            "_dom_classes": [],
            "description": "",
            "_model_name": "HTMLModel",
            "placeholder": "​",
            "_view_module": "@jupyter-widgets/controls",
            "_model_module_version": "1.5.0",
            "value": " 250/250 [05:27&lt;00:00,  1.31s/it]",
            "_view_count": null,
            "_view_module_version": "1.5.0",
            "description_tooltip": null,
            "_model_module": "@jupyter-widgets/controls",
            "layout": "IPY_MODEL_5c2914aa7d344565bb62a748decd8b1f"
          }
        },
        "ab1ec7ef25834fc1bcf12a123d70804e": {
          "model_module": "@jupyter-widgets/controls",
          "model_name": "ProgressStyleModel",
          "state": {
            "_view_name": "StyleView",
            "_model_name": "ProgressStyleModel",
            "description_width": "initial",
            "_view_module": "@jupyter-widgets/base",
            "_model_module_version": "1.5.0",
            "_view_count": null,
            "_view_module_version": "1.2.0",
            "bar_color": null,
            "_model_module": "@jupyter-widgets/controls"
          }
        },
        "3331c1dc27a24fbea565af953ec04205": {
          "model_module": "@jupyter-widgets/base",
          "model_name": "LayoutModel",
          "state": {
            "_view_name": "LayoutView",
            "grid_template_rows": null,
            "right": null,
            "justify_content": null,
            "_view_module": "@jupyter-widgets/base",
            "overflow": null,
            "_model_module_version": "1.2.0",
            "_view_count": null,
            "flex_flow": null,
            "width": null,
            "min_width": null,
            "border": null,
            "align_items": null,
            "bottom": null,
            "_model_module": "@jupyter-widgets/base",
            "top": null,
            "grid_column": null,
            "overflow_y": null,
            "overflow_x": null,
            "grid_auto_flow": null,
            "grid_area": null,
            "grid_template_columns": null,
            "flex": null,
            "_model_name": "LayoutModel",
            "justify_items": null,
            "grid_row": null,
            "max_height": null,
            "align_content": null,
            "visibility": null,
            "align_self": null,
            "height": null,
            "min_height": null,
            "padding": null,
            "grid_auto_rows": null,
            "grid_gap": null,
            "max_width": null,
            "order": null,
            "_view_module_version": "1.2.0",
            "grid_template_areas": null,
            "object_position": null,
            "object_fit": null,
            "grid_auto_columns": null,
            "margin": null,
            "display": null,
            "left": null
          }
        },
        "69b2ffea24904a6db04457ace9e4d159": {
          "model_module": "@jupyter-widgets/controls",
          "model_name": "DescriptionStyleModel",
          "state": {
            "_view_name": "StyleView",
            "_model_name": "DescriptionStyleModel",
            "description_width": "",
            "_view_module": "@jupyter-widgets/base",
            "_model_module_version": "1.5.0",
            "_view_count": null,
            "_view_module_version": "1.2.0",
            "_model_module": "@jupyter-widgets/controls"
          }
        },
        "5c2914aa7d344565bb62a748decd8b1f": {
          "model_module": "@jupyter-widgets/base",
          "model_name": "LayoutModel",
          "state": {
            "_view_name": "LayoutView",
            "grid_template_rows": null,
            "right": null,
            "justify_content": null,
            "_view_module": "@jupyter-widgets/base",
            "overflow": null,
            "_model_module_version": "1.2.0",
            "_view_count": null,
            "flex_flow": null,
            "width": null,
            "min_width": null,
            "border": null,
            "align_items": null,
            "bottom": null,
            "_model_module": "@jupyter-widgets/base",
            "top": null,
            "grid_column": null,
            "overflow_y": null,
            "overflow_x": null,
            "grid_auto_flow": null,
            "grid_area": null,
            "grid_template_columns": null,
            "flex": null,
            "_model_name": "LayoutModel",
            "justify_items": null,
            "grid_row": null,
            "max_height": null,
            "align_content": null,
            "visibility": null,
            "align_self": null,
            "height": null,
            "min_height": null,
            "padding": null,
            "grid_auto_rows": null,
            "grid_gap": null,
            "max_width": null,
            "order": null,
            "_view_module_version": "1.2.0",
            "grid_template_areas": null,
            "object_position": null,
            "object_fit": null,
            "grid_auto_columns": null,
            "margin": null,
            "display": null,
            "left": null
          }
        },
        "1ab3d793cc5042c6bcbb86d9d9094948": {
          "model_module": "@jupyter-widgets/controls",
          "model_name": "HBoxModel",
          "state": {
            "_view_name": "HBoxView",
            "_dom_classes": [],
            "_model_name": "HBoxModel",
            "_view_module": "@jupyter-widgets/controls",
            "_model_module_version": "1.5.0",
            "_view_count": null,
            "_view_module_version": "1.5.0",
            "box_style": "",
            "layout": "IPY_MODEL_546202bb3cb94737abc6177bbd784097",
            "_model_module": "@jupyter-widgets/controls",
            "children": [
              "IPY_MODEL_703004f312b0400c8bc20c55d838a1f8",
              "IPY_MODEL_6d8ed462b04f4a2b869cd50bbc829a4c"
            ]
          }
        },
        "546202bb3cb94737abc6177bbd784097": {
          "model_module": "@jupyter-widgets/base",
          "model_name": "LayoutModel",
          "state": {
            "_view_name": "LayoutView",
            "grid_template_rows": null,
            "right": null,
            "justify_content": null,
            "_view_module": "@jupyter-widgets/base",
            "overflow": null,
            "_model_module_version": "1.2.0",
            "_view_count": null,
            "flex_flow": null,
            "width": null,
            "min_width": null,
            "border": null,
            "align_items": null,
            "bottom": null,
            "_model_module": "@jupyter-widgets/base",
            "top": null,
            "grid_column": null,
            "overflow_y": null,
            "overflow_x": null,
            "grid_auto_flow": null,
            "grid_area": null,
            "grid_template_columns": null,
            "flex": null,
            "_model_name": "LayoutModel",
            "justify_items": null,
            "grid_row": null,
            "max_height": null,
            "align_content": null,
            "visibility": null,
            "align_self": null,
            "height": null,
            "min_height": null,
            "padding": null,
            "grid_auto_rows": null,
            "grid_gap": null,
            "max_width": null,
            "order": null,
            "_view_module_version": "1.2.0",
            "grid_template_areas": null,
            "object_position": null,
            "object_fit": null,
            "grid_auto_columns": null,
            "margin": null,
            "display": null,
            "left": null
          }
        },
        "703004f312b0400c8bc20c55d838a1f8": {
          "model_module": "@jupyter-widgets/controls",
          "model_name": "FloatProgressModel",
          "state": {
            "_view_name": "ProgressView",
            "style": "IPY_MODEL_6e5debd071664864a362fe3cb0ad6e51",
            "_dom_classes": [],
            "description": "100%",
            "_model_name": "FloatProgressModel",
            "bar_style": "success",
            "max": 300,
            "_view_module": "@jupyter-widgets/controls",
            "_model_module_version": "1.5.0",
            "value": 300,
            "_view_count": null,
            "_view_module_version": "1.5.0",
            "orientation": "horizontal",
            "min": 0,
            "description_tooltip": null,
            "_model_module": "@jupyter-widgets/controls",
            "layout": "IPY_MODEL_37971637981e442f8288966d485eae7d"
          }
        },
        "6d8ed462b04f4a2b869cd50bbc829a4c": {
          "model_module": "@jupyter-widgets/controls",
          "model_name": "HTMLModel",
          "state": {
            "_view_name": "HTMLView",
            "style": "IPY_MODEL_371c0156ba3044319d22846c7cb5f29f",
            "_dom_classes": [],
            "description": "",
            "_model_name": "HTMLModel",
            "placeholder": "​",
            "_view_module": "@jupyter-widgets/controls",
            "_model_module_version": "1.5.0",
            "value": " 300/300 [00:05&lt;00:00, 51.79it/s]",
            "_view_count": null,
            "_view_module_version": "1.5.0",
            "description_tooltip": null,
            "_model_module": "@jupyter-widgets/controls",
            "layout": "IPY_MODEL_61e3a39d4f954fd9b3cb13f0f29b644c"
          }
        },
        "6e5debd071664864a362fe3cb0ad6e51": {
          "model_module": "@jupyter-widgets/controls",
          "model_name": "ProgressStyleModel",
          "state": {
            "_view_name": "StyleView",
            "_model_name": "ProgressStyleModel",
            "description_width": "initial",
            "_view_module": "@jupyter-widgets/base",
            "_model_module_version": "1.5.0",
            "_view_count": null,
            "_view_module_version": "1.2.0",
            "bar_color": null,
            "_model_module": "@jupyter-widgets/controls"
          }
        },
        "37971637981e442f8288966d485eae7d": {
          "model_module": "@jupyter-widgets/base",
          "model_name": "LayoutModel",
          "state": {
            "_view_name": "LayoutView",
            "grid_template_rows": null,
            "right": null,
            "justify_content": null,
            "_view_module": "@jupyter-widgets/base",
            "overflow": null,
            "_model_module_version": "1.2.0",
            "_view_count": null,
            "flex_flow": null,
            "width": null,
            "min_width": null,
            "border": null,
            "align_items": null,
            "bottom": null,
            "_model_module": "@jupyter-widgets/base",
            "top": null,
            "grid_column": null,
            "overflow_y": null,
            "overflow_x": null,
            "grid_auto_flow": null,
            "grid_area": null,
            "grid_template_columns": null,
            "flex": null,
            "_model_name": "LayoutModel",
            "justify_items": null,
            "grid_row": null,
            "max_height": null,
            "align_content": null,
            "visibility": null,
            "align_self": null,
            "height": null,
            "min_height": null,
            "padding": null,
            "grid_auto_rows": null,
            "grid_gap": null,
            "max_width": null,
            "order": null,
            "_view_module_version": "1.2.0",
            "grid_template_areas": null,
            "object_position": null,
            "object_fit": null,
            "grid_auto_columns": null,
            "margin": null,
            "display": null,
            "left": null
          }
        },
        "371c0156ba3044319d22846c7cb5f29f": {
          "model_module": "@jupyter-widgets/controls",
          "model_name": "DescriptionStyleModel",
          "state": {
            "_view_name": "StyleView",
            "_model_name": "DescriptionStyleModel",
            "description_width": "",
            "_view_module": "@jupyter-widgets/base",
            "_model_module_version": "1.5.0",
            "_view_count": null,
            "_view_module_version": "1.2.0",
            "_model_module": "@jupyter-widgets/controls"
          }
        },
        "61e3a39d4f954fd9b3cb13f0f29b644c": {
          "model_module": "@jupyter-widgets/base",
          "model_name": "LayoutModel",
          "state": {
            "_view_name": "LayoutView",
            "grid_template_rows": null,
            "right": null,
            "justify_content": null,
            "_view_module": "@jupyter-widgets/base",
            "overflow": null,
            "_model_module_version": "1.2.0",
            "_view_count": null,
            "flex_flow": null,
            "width": null,
            "min_width": null,
            "border": null,
            "align_items": null,
            "bottom": null,
            "_model_module": "@jupyter-widgets/base",
            "top": null,
            "grid_column": null,
            "overflow_y": null,
            "overflow_x": null,
            "grid_auto_flow": null,
            "grid_area": null,
            "grid_template_columns": null,
            "flex": null,
            "_model_name": "LayoutModel",
            "justify_items": null,
            "grid_row": null,
            "max_height": null,
            "align_content": null,
            "visibility": null,
            "align_self": null,
            "height": null,
            "min_height": null,
            "padding": null,
            "grid_auto_rows": null,
            "grid_gap": null,
            "max_width": null,
            "order": null,
            "_view_module_version": "1.2.0",
            "grid_template_areas": null,
            "object_position": null,
            "object_fit": null,
            "grid_auto_columns": null,
            "margin": null,
            "display": null,
            "left": null
          }
        }
      }
    }
  },
  "cells": [
    {
      "cell_type": "markdown",
      "metadata": {
        "id": "NVLULfZEwYrc"
      },
      "source": [
        "# **Partie 1 : Q learning**\n",
        "\n",
        "Dans cette séance on testera l'algorithme de Q learning avec un environnement de simulation d'OpenAI gym.\n"
      ]
    },
    {
      "cell_type": "markdown",
      "metadata": {
        "id": "Rt2BRU_9wYrh"
      },
      "source": [
        "### Quelques installations\n",
        "\n",
        "Selon ce qui est déjà installé dans votre environnement de travail, vous aurez besoin de quelques librairies. "
      ]
    },
    {
      "cell_type": "code",
      "metadata": {
        "id": "C34l2Aeex0Vh"
      },
      "source": [
        "%matplotlib nbagg"
      ],
      "execution_count": 2,
      "outputs": []
    },
    {
      "cell_type": "code",
      "metadata": {
        "id": "EzfOtQ2z8umI"
      },
      "source": [
        "from IPython.display import clear_output\n",
        "from ipywidgets import Output"
      ],
      "execution_count": 3,
      "outputs": []
    },
    {
      "cell_type": "code",
      "metadata": {
        "id": "0Rh05WvAwYri"
      },
      "source": [
        "!pip install ipywidgets gym box2d-py livelossplot pyglet \n",
        "!pip install scikit-learn numpy --upgrade\n",
        "clear_output()"
      ],
      "execution_count": 4,
      "outputs": []
    },
    {
      "cell_type": "code",
      "metadata": {
        "id": "qIMlyf5jwYri"
      },
      "source": [
        "import gym\n",
        "import matplotlib\n",
        "import matplotlib.pyplot as plt\n",
        "import operator\n",
        "\n",
        "import numpy as np\n",
        "\n",
        "from tqdm.notebook import tqdm\n",
        "from livelossplot import PlotLosses\n",
        "import random"
      ],
      "execution_count": 5,
      "outputs": []
    },
    {
      "cell_type": "code",
      "metadata": {
        "id": "xPh-5b2Qzwrw",
        "colab": {
          "base_uri": "https://localhost:8080/"
        },
        "outputId": "9a40f38b-4a86-47e3-bcec-e3e66c06420c"
      },
      "source": [
        "try:\n",
        "  import google.colab\n",
        "  IN_COLAB = True\n",
        "except:\n",
        "  IN_COLAB = False\n",
        "print(\"In Colab?\", IN_COLAB)"
      ],
      "execution_count": 6,
      "outputs": [
        {
          "output_type": "stream",
          "text": [
            "In Colab? True\n"
          ],
          "name": "stdout"
        }
      ]
    },
    {
      "cell_type": "code",
      "metadata": {
        "id": "aqAkRERXzyUq"
      },
      "source": [
        "# Fonctions Pour L'Affichage\n",
        "\n",
        "from gym.wrappers import Monitor\n",
        "import glob\n",
        "import io\n",
        "import base64\n",
        "from IPython.display import display\n",
        "from IPython.display import HTML\n",
        "\n",
        "if IN_COLAB:\n",
        "    !apt install xvfb python-opengl x11-utils -y\n",
        "    !pip install pyvirtualdisplay pyglet\n",
        "    # !pip install -q --upgrade ipython\n",
        "    # !pip install -q --upgrade ipykernel\n",
        "    from pyvirtualdisplay import Display\n",
        "    global DISPLAY\n",
        "    DISPLAY = Display(visible=False, size=(640, 480))\n",
        "    DISPLAY.start()\n",
        "    clear_output()\n",
        "    \n",
        "    def show_video():\n",
        "        mp4list = glob.glob('video/*.mp4')\n",
        "        if len(mp4list) > 0:\n",
        "            mp4 = mp4list[0]\n",
        "            video = io.open(mp4, 'r+b').read()\n",
        "            encoded = base64.b64encode(video)\n",
        "            display(HTML(data='''<video alt=\"test\" autoplay \n",
        "                        loop controls style=\"height: 400px;\">\n",
        "                        <source src=\"data:video/mp4;base64,{0}\" type=\"video/mp4\" />\n",
        "                    </video>'''.format(encoded.decode('ascii'))))\n",
        "        else: \n",
        "            print(\"Could not find video\")\n",
        "            \n",
        "    def start_capture(env):\n",
        "        env = Monitor(env, './video', force=True)\n",
        "        return env\n",
        "else:\n",
        "    import matplotlib.pyplot as plt\n",
        "\n",
        "    # Imports specifically so we can render outputs in Jupyter.\n",
        "    #from JSAnimation.IPython_display import display_animation\n",
        "    from matplotlib import animation\n",
        "    from IPython.display import display_html\n",
        "    from IPython.display import HTML\n",
        "\n",
        "    class Notebook(object):    \n",
        "\n",
        "        frames = []        \n",
        "\n",
        "        @staticmethod\n",
        "        def setup():\n",
        "            Notebook.frames = []\n",
        "\n",
        "        @staticmethod\n",
        "        def record(env):\n",
        "            Notebook.frames.append(env.render(mode = 'rgb_array'))\n",
        "\n",
        "        @staticmethod\n",
        "        def replay():\n",
        "            \"\"\"\n",
        "            Displays a list of frames as a gif, with controls\n",
        "            \"\"\"\n",
        "            plt.figure(figsize=(Notebook.frames[0].shape[1] / 72.0, Notebook.frames[0].shape[0] / 72.0), dpi = 72)\n",
        "            patch = plt.imshow(Notebook.frames[0])\n",
        "            plt.axis('off')\n",
        "\n",
        "            def animate(i):\n",
        "                patch.set_data(Notebook.frames[i])\n",
        "\n",
        "            anim = animation.FuncAnimation(plt.gcf(), animate, frames = len(Notebook.frames), interval=50)\n",
        "            #display(display_animation(anim, default_mode='loop'))\n",
        "            display_html(HTML(anim.to_html5_video()))   \n",
        "\n",
        "        @staticmethod\n",
        "        def log_progress(sequence, every=None, size=None, name='Episodes'):\n",
        "            from ipywidgets import IntProgress, HTML, VBox\n",
        "            from IPython.display import display\n",
        "\n",
        "            is_iterator = False\n",
        "            if size is None:\n",
        "                try:\n",
        "                    size = len(sequence)\n",
        "                except TypeError:\n",
        "                    is_iterator = True\n",
        "            if size is not None:\n",
        "                if every is None:\n",
        "                    if size <= 200:\n",
        "                        every = 1\n",
        "                    else:\n",
        "                        every = int(size / 200)     # every 0.5%\n",
        "            else:\n",
        "                assert every is not None, 'sequence is iterator, set every'\n",
        "\n",
        "            if is_iterator:\n",
        "                progress = IntProgress(min=0, max=1, value=1)\n",
        "                progress.bar_style = 'info'\n",
        "            else:\n",
        "                progress = IntProgress(min=0, max=size, value=0)\n",
        "            label = HTML()\n",
        "            box = VBox(children=[label, progress])\n",
        "            display(box)\n",
        "\n",
        "            index = 0\n",
        "            try:\n",
        "                for index, record in enumerate(sequence, 1):\n",
        "                    if index == 1 or index % every == 0:\n",
        "                        if is_iterator:\n",
        "                            label.value = '{name}: {index} / ?'.format(\n",
        "                                name=name,\n",
        "                                index=index\n",
        "                            )\n",
        "                        else:\n",
        "                            progress.value = index\n",
        "                            label.value = u'{name}: {index} / {size}'.format(\n",
        "                                name=name,\n",
        "                                index=index,\n",
        "                                size=size\n",
        "                            )\n",
        "                    yield record\n",
        "            except:\n",
        "                progress.bar_style = 'danger'\n",
        "                raise\n",
        "            else:\n",
        "                progress.bar_style = 'success'\n",
        "                progress.value = index\n",
        "                label.value = \"{name}: {index}\".format(\n",
        "                    name=name,\n",
        "                    index=str(index or '?')\n",
        "                )\n",
        "                \n",
        "    def show_video():\n",
        "        Notebook.replay()\n",
        "        \n",
        "    def start_capture(env):\n",
        "        Notebook.setup()\n",
        "        env = Monitor(env, './video', video_callable=False, force=True)\n",
        "        old_step = env.step\n",
        "        def wrapped_step(*args, **kwargs):\n",
        "            Notebook.record(env)\n",
        "            return old_step(*args, **kwargs)\n",
        "        env.step = wrapped_step\n",
        "        return env"
      ],
      "execution_count": 7,
      "outputs": []
    },
    {
      "cell_type": "markdown",
      "metadata": {
        "id": "cJWHbBvwwYrj"
      },
      "source": [
        "## Découverte des environnements d'OpenAI Gym\n",
        "\n",
        "Gym définit des mondes dans lesquels on peut avoir un agent qui agit sur l'environement, et avoir l'observation de certaines variables de cet environnement.\n",
        "\n",
        "On utilisera l'environnement suivant, ou un module lunaire essaie d'atterrir en douceur sur un emplacement fixé:"
      ]
    },
    {
      "cell_type": "code",
      "metadata": {
        "id": "mZGZnexFwYrj",
        "colab": {
          "base_uri": "https://localhost:8080/"
        },
        "outputId": "0b613fca-928a-40a3-ed04-54920d10c1e1"
      },
      "source": [
        "# On charge un environnement \n",
        "env = gym.make(\"LunarLander-v2\")\n",
        "\n",
        "# on l'initialise sur un état de départ. \n",
        "env.reset()"
      ],
      "execution_count": 8,
      "outputs": [
        {
          "output_type": "execute_result",
          "data": {
            "text/plain": [
              "array([-0.00266733,  1.4217777 , -0.27018088,  0.4825615 ,  0.00309749,\n",
              "        0.06119994,  0.        ,  0.        ], dtype=float32)"
            ]
          },
          "metadata": {
            "tags": []
          },
          "execution_count": 8
        }
      ]
    },
    {
      "cell_type": "markdown",
      "metadata": {
        "id": "tvSwpyjbwYrj"
      },
      "source": [
        "Chaque environnement comprend un espace d'actions possibles par l'agent, qui est ici un module d'atterrissage lunaire doté de deux moteurs latéraux, et un moteur principal. L'agent peut aussi ne rien faire. "
      ]
    },
    {
      "cell_type": "code",
      "metadata": {
        "id": "X3PeIQc2wYrj",
        "colab": {
          "base_uri": "https://localhost:8080/"
        },
        "outputId": "f6b095ec-a9d2-4d7d-8007-6a5f7e93558e"
      },
      "source": [
        "# Espace des actions \n",
        "# Nop, fire left engine, main engine, right engine\n",
        "ACTION_SPACE = [\"NOP\", \"Left\", \"Main\", \"Right\"]\n",
        "print(env.action_space)\n",
        "# on peut échantilloner une action au hasard\n",
        "print(env.action_space.sample())"
      ],
      "execution_count": 9,
      "outputs": [
        {
          "output_type": "stream",
          "text": [
            "Discrete(4)\n",
            "1\n"
          ],
          "name": "stdout"
        }
      ]
    },
    {
      "cell_type": "code",
      "metadata": {
        "id": "xTABnYBqMRwA"
      },
      "source": [
        ""
      ],
      "execution_count": null,
      "outputs": []
    },
    {
      "cell_type": "code",
      "metadata": {
        "id": "2ADG7vVswYrk",
        "colab": {
          "base_uri": "https://localhost:8080/"
        },
        "outputId": "2fcb8f5b-8111-4560-af3a-4933fe115fb9"
      },
      "source": [
        "print(env.action_space.n)"
      ],
      "execution_count": 10,
      "outputs": [
        {
          "output_type": "stream",
          "text": [
            "4\n"
          ],
          "name": "stdout"
        }
      ]
    },
    {
      "cell_type": "markdown",
      "metadata": {
        "id": "PYMuXGUWwYrk"
      },
      "source": [
        "L'environnement définit un certain nombre de variables observables."
      ]
    },
    {
      "cell_type": "code",
      "metadata": {
        "id": "TIo0mrxYwYrk",
        "colab": {
          "base_uri": "https://localhost:8080/"
        },
        "outputId": "371a2698-8a50-4bd0-e30f-9ce0c9409bc4"
      },
      "source": [
        "# Espace des observations\n",
        "# 0,1: Position X, Y\n",
        "# 2,3: vitesse vx, vx\n",
        "# 4: angle / vertical \n",
        "# 5: angle vitesse rotation \n",
        "# 6,7: capteur contact pied gauche/droit\n",
        "OBS_SPACE = [\"X Pos\", \"Y Pos\", \"V_X\", \"V_Y\", \"Angle\", \"Angular Speed\", \"Left Foot Contact\", \"Right Foot Contact\"]\n",
        "\n",
        "obs = env.reset()\n",
        "print(obs.shape)\n",
        "obs"
      ],
      "execution_count": 11,
      "outputs": [
        {
          "output_type": "stream",
          "text": [
            "(8,)\n"
          ],
          "name": "stdout"
        },
        {
          "output_type": "execute_result",
          "data": {
            "text/plain": [
              "array([-0.00395117,  1.4162449 , -0.40022716,  0.2366473 ,  0.00458521,\n",
              "        0.09065742,  0.        ,  0.        ], dtype=float32)"
            ]
          },
          "metadata": {
            "tags": []
          },
          "execution_count": 11
        }
      ]
    },
    {
      "cell_type": "markdown",
      "metadata": {
        "id": "J-uhfXHwwYrk"
      },
      "source": [
        "A chaque action faite par un agent, l'environnement informe sur le nouvel état, donne une récompense (prédéfinie et fixé pour chaque monde), et renvoie aussi une condition qui précise si la simulation est finie (crash ou atterrissage réussi). "
      ]
    },
    {
      "cell_type": "code",
      "metadata": {
        "id": "L5SVbykBwYrl",
        "colab": {
          "base_uri": "https://localhost:8080/"
        },
        "outputId": "f20a8b53-ff58-4a37-b832-9aa591ee3bb4"
      },
      "source": [
        "#faire une action, constater l'état suivant, reward etc\n",
        "action = 1 # par exemple\n",
        "observation, reward, done, info = env.step(action)\n",
        "observation, reward, done, info"
      ],
      "execution_count": 12,
      "outputs": [
        {
          "output_type": "execute_result",
          "data": {
            "text/plain": [
              "(array([-0.00796394,  1.4210026 , -0.40736026,  0.2114229 ,  0.01060334,\n",
              "         0.12037404,  0.        ,  0.        ], dtype=float32),\n",
              " -0.5094607458714779,\n",
              " False,\n",
              " {})"
            ]
          },
          "metadata": {
            "tags": []
          },
          "execution_count": 12
        }
      ]
    },
    {
      "cell_type": "markdown",
      "metadata": {
        "id": "oSLgwLQqwYrl"
      },
      "source": [
        "## I) Ecrire une fonction de simulation qui fait une séquence d'action au hasard\n",
        "\n",
        "et enregistre les récompenses et la trajectoire de chaque variable observée. \n",
        "\n",
        "L'appel à `wrap_env` sert à activer la capture vidéo."
      ]
    },
    {
      "cell_type": "code",
      "metadata": {
        "id": "qn0tsRhJwYrl"
      },
      "source": [
        "# version à compléter\n",
        "def random_sequence(env, nb, render=True, noprint=False):\n",
        "        if render:\n",
        "            # Activer la capture vidéo\n",
        "            env = start_capture(env)\n",
        "        # observation initiale\n",
        "        observation = env.reset()\n",
        "        # sauve les observations pour faire des stats\n",
        "        trajectory = [observation]\n",
        "        # somme des récompenses\n",
        "        total = 0\n",
        "        # récompense finale\n",
        "        final = 0\n",
        "        for t in range(nb):\n",
        "            # compléter ici ...\n",
        "            action = env.action_space.sample()\n",
        "            observation, reward, done, info = env.step(action)\n",
        "            total += reward\n",
        "            trajectory += [observation]\n",
        "            if done:\n",
        "                if not noprint:\n",
        "                    print(\"Episode finished after {} timesteps\".format(t+1))\n",
        "                final = reward #on voit la dernière reward pour savoir si on a gagné ou pas\n",
        "                break\n",
        "        env.close()\n",
        "        trajectory = np.array(trajectory)\n",
        "        return final, total, trajectory"
      ],
      "execution_count": 13,
      "outputs": []
    },
    {
      "cell_type": "code",
      "metadata": {
        "id": "LVaRECR-wYrl",
        "colab": {
          "base_uri": "https://localhost:8080/"
        },
        "outputId": "d879a623-8bca-4cf8-cb74-c7a7548ad57c"
      },
      "source": [
        "final, total, trajectory = random_sequence(env, 200)\n",
        "print(\"final reward =\", final)\n",
        "print(\"total reward =\", total)"
      ],
      "execution_count": 14,
      "outputs": [
        {
          "output_type": "stream",
          "text": [
            "Episode finished after 64 timesteps\n",
            "final reward = -100\n",
            "total reward = -135.7566574870294\n"
          ],
          "name": "stdout"
        }
      ]
    },
    {
      "cell_type": "code",
      "metadata": {
        "id": "RnM1M25a7szH",
        "colab": {
          "base_uri": "https://localhost:8080/",
          "height": 421
        },
        "outputId": "6db24fc9-7935-48b0-86d0-a18067be9406"
      },
      "source": [
        "# lance la video des etats sauvegardés\n",
        "show_video()"
      ],
      "execution_count": 15,
      "outputs": [
        {
          "output_type": "display_data",
          "data": {
            "text/html": [
              "<video alt=\"test\" autoplay \n",
              "                        loop controls style=\"height: 400px;\">\n",
              "                        <source src=\"data:video/mp4;base64,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\" type=\"video/mp4\" />\n",
              "                    </video>"
            ],
            "text/plain": [
              "<IPython.core.display.HTML object>"
            ]
          },
          "metadata": {
            "tags": []
          }
        }
      ]
    },
    {
      "cell_type": "code",
      "metadata": {
        "id": "7xL2wtvywYrm",
        "colab": {
          "base_uri": "https://localhost:8080/"
        },
        "outputId": "3d8b52b8-5d17-44f2-9560-c583a5e3b954"
      },
      "source": [
        "trajectory.shape"
      ],
      "execution_count": 16,
      "outputs": [
        {
          "output_type": "execute_result",
          "data": {
            "text/plain": [
              "(65, 8)"
            ]
          },
          "metadata": {
            "tags": []
          },
          "execution_count": 16
        }
      ]
    },
    {
      "cell_type": "code",
      "metadata": {
        "id": "gsXCORiZwYrm",
        "colab": {
          "base_uri": "https://localhost:8080/",
          "height": 266
        },
        "outputId": "034bf46d-ac3d-4040-e68e-1f33a23213ef"
      },
      "source": [
        "# On peut observer l'évolution des variables au cours de la simulation\n",
        "%matplotlib inline\n",
        "fig, axs = plt.subplots(8)\n",
        "for i in range(8):\n",
        "    axs[i].plot(trajectory[:,i])\n",
        "    axs[i].yaxis.set_label_position(\"right\")\n",
        "    axs[i].set_ylabel(OBS_SPACE[i], rotation=0, labelpad=5, horizontalalignment='left')"
      ],
      "execution_count": 17,
      "outputs": [
        {
          "output_type": "display_data",
          "data": {
            "image/png": "[encoded data removed]",
            "text/plain": [
              "<Figure size 432x288 with 8 Axes>"
            ]
          },
          "metadata": {
            "tags": [],
            "needs_background": "light"
          }
        }
      ]
    },
    {
      "cell_type": "markdown",
      "metadata": {
        "id": "o3gt6CyGwYrm"
      },
      "source": [
        "## II) Q learning par discrétisation de l'espace des états\n",
        "\n",
        "Pour pouvoir utiliser le Q-learning sur cet environnement, il faut limiter la taille de l'espace d'états, \n",
        "et donc discrétiser les valeurs continues de chaque variables pour n'avoir que quelques valeurs. \n",
        "\n",
        "Il faudra donc: \n",
        "\n",
        "- discrétiser l'espace des observations pour faire une Q-table: pour cela vous pouvez générer des simulations et regarder la distribution des valeurs\n",
        "- implémenter un agent avec une table de Q gardant les valeurs des paires (états,actions)\n",
        "     - implémenter le Q learning avec des paramètres controlant le processus (nb d'épisodes, longueur de chaque épisode, gamma, alpha, le facteur d'exploration au moins)\n",
        "- tester différentes valeurs de paramètres pour améliorer l'apprentissage\n",
        "- tester le modèle en simulant l'agent avec le modèle appris \n"
      ]
    },
    {
      "cell_type": "markdown",
      "metadata": {
        "id": "PX5QfAhNwYrn"
      },
      "source": [
        "### a) Discrétisation manuelle\n",
        "Pour discrétiser manuellement un espace continu on peut utiliser les fonctions de numpy: \n",
        "     \n",
        "  - linspace pour découper un intervalle réel \n",
        "  - digitize pour assigner une valeur continue à un de ces intervalles"
      ]
    },
    {
      "cell_type": "code",
      "metadata": {
        "id": "Pw5TEBsNwYrn",
        "colab": {
          "base_uri": "https://localhost:8080/"
        },
        "outputId": "c680926d-87d5-4a36-90be-b9fc943289fe"
      },
      "source": [
        "bornes = np.linspace(-1,1,11)\n",
        "display_bornes = [\"-∞\"] + list(bornes) + [\"+∞\"]\n",
        "print(\"bornes:\", bornes)\n",
        "\n",
        "x = -0.6578\n",
        "i = np.digitize(x, bornes)\n",
        "print(f\"value {x} => [{display_bornes[i]} ; {display_bornes[i+1]}] = index {i}\")\n",
        "\n",
        "x = -0.888\n",
        "i = np.digitize(x, bornes)\n",
        "print(f\"value {x} => [{display_bornes[i]} ; {display_bornes[i+1]}] = index {i}\")\n",
        "\n",
        "x = -2\n",
        "i = np.digitize(x, bornes)\n",
        "print(f\"value {x} => [{display_bornes[i]} ; {display_bornes[i+1]}] = index {i}\")\n",
        "\n",
        "x = 4\n",
        "i = np.digitize(x, bornes)\n",
        "print(f\"value {x} => [{display_bornes[i]} ; {display_bornes[i+1]}] = index {i}\")"
      ],
      "execution_count": 18,
      "outputs": [
        {
          "output_type": "stream",
          "text": [
            "bornes: [-1.  -0.8 -0.6 -0.4 -0.2  0.   0.2  0.4  0.6  0.8  1. ]\n",
            "value -0.6578 => [-0.8 ; -0.6] = index 2\n",
            "value -0.888 => [-1.0 ; -0.8] = index 1\n",
            "value -2 => [-∞ ; -1.0] = index 0\n",
            "value 4 => [1.0 ; +∞] = index 11\n"
          ],
          "name": "stdout"
        }
      ]
    },
    {
      "cell_type": "code",
      "metadata": {
        "id": "lET4A2W_tkuS"
      },
      "source": [
        "# Si vous voulez le faire manuellement, sinon partie suivante ..."
      ],
      "execution_count": 19,
      "outputs": []
    },
    {
      "cell_type": "markdown",
      "metadata": {
        "id": "Ph3TBWZPto-H"
      },
      "source": [
        "### a-bis) Discrétisation automatique\n",
        "Pour discrétiser automatiquement un espace continu en fonction d'une distribution de valeurs, on peut utiliser un `KBinsDiscretizer` de la librairie `sklearn`. On doit d'abord collecter des échantillons de trajectoires en faisant tourner la simulation:"
      ]
    },
    {
      "cell_type": "code",
      "metadata": {
        "id": "d32dRPqPs4aH",
        "colab": {
          "base_uri": "https://localhost:8080/",
          "height": 82,
          "referenced_widgets": [
            "1eb99f7a828c4199899138fe4ef63591",
            "84e0a200ccf044e4852be870090f1f25",
            "0eac36506aa04f168bd5e14bb6cd7bfc",
            "976a19ca3ea148e9b318c9d4df10cf70",
            "4507da8929484845a8f0ec70f8a4c099",
            "b62e668f5baa434884ea3588e4a33e6d",
            "3e8a05c4e93a43029d4aabdc5d4e45dc",
            "cb4e0a3f9f2045cb87bfa67b724326bd"
          ]
        },
        "outputId": "f77062c7-71f0-4916-e57c-fd3bf06acdd1"
      },
      "source": [
        "all_trajectories = [] # ensemble des trajectoires\n",
        "all_rewards = [] # ensemble des récompenses moyennes\n",
        "n_samples = 1000 # combien de simulations faire tourner\n",
        "for _ in tqdm(range(n_samples)):\n",
        "    final, total, trajectory = random_sequence(env, 100, render=False, noprint=True)\n",
        "    all_trajectories.extend(trajectory)\n",
        "    all_rewards.append(total/100)\n",
        "    \n",
        "all_trajectories = np.vstack(all_trajectories)\n",
        "print(\"Mean total reward:\", np.mean(all_rewards))"
      ],
      "execution_count": 20,
      "outputs": [
        {
          "output_type": "display_data",
          "data": {
            "application/vnd.jupyter.widget-view+json": {
              "model_id": "1eb99f7a828c4199899138fe4ef63591",
              "version_minor": 0,
              "version_major": 2
            },
            "text/plain": [
              "HBox(children=(FloatProgress(value=0.0, max=1000.0), HTML(value='')))"
            ]
          },
          "metadata": {
            "tags": []
          }
        },
        {
          "output_type": "stream",
          "text": [
            "\n",
            "Mean total reward: -1.3962427359348408\n"
          ],
          "name": "stdout"
        }
      ]
    },
    {
      "cell_type": "code",
      "metadata": {
        "id": "KjoAQhSiwrCi",
        "colab": {
          "base_uri": "https://localhost:8080/"
        },
        "outputId": "f16a977e-4219-49b2-a627-7c9a3aa8835d"
      },
      "source": [
        "all_trajectories.shape"
      ],
      "execution_count": 21,
      "outputs": [
        {
          "output_type": "execute_result",
          "data": {
            "text/plain": [
              "(88168, 8)"
            ]
          },
          "metadata": {
            "tags": []
          },
          "execution_count": 21
        }
      ]
    },
    {
      "cell_type": "code",
      "metadata": {
        "id": "6VTh_GsuPmzq"
      },
      "source": [
        "# Pour que le KBinsDiscretizer ne pense pas que ces bins sont vides (peu de 1 dans ces deux composantes globalement)\n",
        "all_trajectories[::2, [6,7]] = 0.0\n",
        "all_trajectories[1::2, [6,7]] = 1.0"
      ],
      "execution_count": 22,
      "outputs": []
    },
    {
      "cell_type": "code",
      "metadata": {
        "id": "tLsfIvnQsqLc",
        "colab": {
          "base_uri": "https://localhost:8080/"
        },
        "outputId": "893ffaa0-5f4a-48df-d77c-5690e3ef784c"
      },
      "source": [
        "from sklearn.preprocessing import KBinsDiscretizer\n",
        "#####################################################\n",
        "# Hyperparamètre: Nombre de Bins (en fonction de la composante)\n",
        "# Essayez différents nombres de bins\n",
        "# les pieds (observations[6|7]) sont des booléens {0,1}, donc 2 bins seulement\n",
        "N_Bins = [15]*2 + [10]*2 + [8,3] + [2,2] # seulement un exemple\n",
        "print(\"Bin sizes =\", N_Bins)\n",
        "#####################################################\n",
        "\n",
        "discretizer = KBinsDiscretizer(n_bins = N_Bins, # nombre de bins (intervalles) à construire       \n",
        "                               encode = \"ordinal\", # renvoie l'indice de la \"tranche\" (comme digitize)\n",
        "                               strategy = \"quantile\") # tout les bins auront le même nombre de points\n",
        "# Attention: sklearn attend (et renvoie) des entrées en 2D, il faut donc faire un reshape(-1, 1)\n",
        "# Fit sur la distribution de la i-ème composante de la trajectoire\n",
        "discretizer.fit(all_trajectories)\n",
        "# Pour l'affichage\n",
        "discretizer_edges = [[\"-∞\"] + list(edges[1:-1]) + [\"+∞\"] for edges in discretizer.bin_edges_]"
      ],
      "execution_count": 23,
      "outputs": [
        {
          "output_type": "stream",
          "text": [
            "Bin sizes = [15, 15, 10, 10, 8, 3, 2, 2]\n"
          ],
          "name": "stdout"
        }
      ]
    },
    {
      "cell_type": "code",
      "metadata": {
        "id": "4EJ-a-cYDJ2Y",
        "colab": {
          "base_uri": "https://localhost:8080/"
        },
        "outputId": "fe007c3d-f66a-4b42-9b61-3d120b1d567b"
      },
      "source": [
        "discretizer_edges[1] # limites des bins pour Y Pos par exemple"
      ],
      "execution_count": 24,
      "outputs": [
        {
          "output_type": "execute_result",
          "data": {
            "text/plain": [
              "['-∞',\n",
              " 0.18131517469882966,\n",
              " 0.393889331817627,\n",
              " 0.5739815592765809,\n",
              " 0.7291605472564697,\n",
              " 0.8632254004478456,\n",
              " 0.9813216090202332,\n",
              " 1.0850609540939333,\n",
              " 1.1756880044937135,\n",
              " 1.253525114059448,\n",
              " 1.3187419176101685,\n",
              " 1.3709330320358277,\n",
              " 1.4075927257537841,\n",
              " 1.440393352508545,\n",
              " 1.493448066711426,\n",
              " '+∞']"
            ]
          },
          "metadata": {
            "tags": []
          },
          "execution_count": 24
        }
      ]
    },
    {
      "cell_type": "code",
      "metadata": {
        "id": "KRZXNVmyxhh2",
        "colab": {
          "base_uri": "https://localhost:8080/",
          "height": 498
        },
        "outputId": "3b95e485-e620-417a-c9de-d33109d49e29"
      },
      "source": [
        "fig, axs = plt.subplots(2,3, figsize=(18,8))\n",
        "\n",
        "for i in range(6):\n",
        "    axs[i//3,i%3].hist(all_trajectories[:,i],10)\n",
        "    axs[i//3,i%3].set_xlabel(OBS_SPACE[i])\n",
        "    for x in discretizer_edges[i][1:-1]:\n",
        "        axs[i//3,i%3].axvline(x=x, color=\"r\")"
      ],
      "execution_count": 25,
      "outputs": [
        {
          "output_type": "display_data",
          "data": {
            "image/png": "[encoded data removed]",
            "text/plain": [
              "<Figure size 1296x576 with 6 Axes>"
            ]
          },
          "metadata": {
            "tags": [],
            "needs_background": "light"
          }
        }
      ]
    },
    {
      "cell_type": "code",
      "metadata": {
        "id": "rA32ezPww7ek",
        "colab": {
          "base_uri": "https://localhost:8080/"
        },
        "outputId": "348730f1-8286-4300-fbd9-03fcf7d763b1"
      },
      "source": [
        "# Exemple:\n",
        "obs = env.reset().reshape(1, -1)\n",
        "\n",
        "obs[0,7] = 1.0\n",
        "disc_obs = discretizer.transform(obs)\n",
        "for i, (o, d) in enumerate(zip(obs.squeeze(), disc_obs.squeeze())):\n",
        "    d = int(d)\n",
        "    print(f\"value {o} => [{discretizer_edges[i][d]} ; {discretizer_edges[i][d+1]}] = index {d}\")"
      ],
      "execution_count": 26,
      "outputs": [
        {
          "output_type": "stream",
          "text": [
            "value 0.002880000974982977 => [-0.009331836551427832 ; 0.00829854961484671] = index 7\n",
            "value 1.4061375856399536 => [1.3709330320358277 ; 1.4075927257537841] = index 11\n",
            "value 0.291702538728714 => [0.1613425761461258 ; 0.32359065711498236] = index 6\n",
            "value -0.21256190538406372 => [-0.37291714251041447 ; -0.20338437557220454] = index 7\n",
            "value -0.0033304570242762566 => [-0.04873880138620734 ; 0.003658236120827496] = index 3\n",
            "value -0.06607484817504883 => [-0.07669150829315186 ; 0.0914926752448082] = index 1\n",
            "value 0.0 => [-∞ ; 0.5] = index 0\n",
            "value 1.0 => [0.5 ; +∞] = index 1\n"
          ],
          "name": "stdout"
        }
      ]
    },
    {
      "cell_type": "code",
      "metadata": {
        "id": "ranor-Z7wYro"
      },
      "source": [
        "# à compléter\n",
        "class QLearner_LunarLander(object):\n",
        "    def __init__(self, env, discretizer):\n",
        "        \"\"\" Un exemple de constructeur (à modifier selon comment vous souhaitez discrétiser les états) \"\"\"\n",
        "        self.env = env\n",
        "        self.discretizer = discretizer\n",
        "        # Hyperparamètres stockés dans l'objet, pour simplifier\n",
        "        self.alpha = .5\n",
        "        self.gamma = .9993\n",
        "        self.epsilon = 1\n",
        "        self.min_epsilon = .01\n",
        "        self.epsilon_decay = .9993\n",
        "        # Le plus simple est de représenter Q par un dictionnaire de dictionnaire \"dynamique\"\n",
        "        # associant un état à un dictionnaire associant une action à sa Q-valeur\n",
        "        self.Q = {}\n",
        "\n",
        "    def reset(self):\n",
        "        \"\"\" Ré-initialise Q \"\"\"\n",
        "        self.Q = {}\n",
        "                \n",
        "    def discrete_state(self, real_state):\n",
        "        \"\"\" Retourne l'état réel en paramètre sous forme discrétisée \"\"\"\n",
        "        disc_state = self.discretizer.transform(real_state.reshape(1,-1)).squeeze()\n",
        "        return tuple(disc_state) # la clé d'un dictionnaire doit être un tuple (immuable)\n",
        "    \n",
        "    def get_Q(self, disc_state, action):\n",
        "        \"\"\" Retourne la Q-valeur pour l'état discret et l'action donnée \"\"\"\n",
        "        return self.Q.get(disc_state,{}).get(action,0)\n",
        "    \n",
        "    def update_Q(self, state, action, reward, new_state):\n",
        "        \"\"\" Met à jour Q en fonction de l'état courant, l'action, la récompense,\n",
        "            le nouvel état, ainsi que la valeur courante de Q (get_Q) pour ..., \n",
        "            la meilleure Q-valeur (best_value) pour ..., alpha, et gamma \n",
        "        \"\"\"\n",
        "        # attention à gérer la structure du dictionnaire (clés manquantes, etc.)\n",
        "        if not (state in self.Q and action in self.Q[state]):\n",
        "            self.Q[state]={}\n",
        "        self.Q[state][action] = (1-self.alpha)*self.get_Q(state,action)+self.alpha*(reward + self.gamma*self.best_value(new_state)) ### Pour rappel: la formule est dans votre cours ###\n",
        "    \n",
        "    def best_value(self, disc_state):\n",
        "        \"\"\" Retourne la meilleure Q-valeur parmis toutes les actions pour un état discret donné,\n",
        "            ou 0 sinon \"\"\"\n",
        "        if disc_state not in self.Q or len(self.Q[disc_state])==0:\n",
        "          return 0\n",
        "        return max(self.Q[disc_state].values())\n",
        "            \n",
        "    def best_action(self, disc_state):\n",
        "        \"\"\" Retourne l'action avec la Q-valeur la plus grande parmis \n",
        "            toutes les actions pour un état discret donné, ou une action aléatoire sinon \"\"\"\n",
        "        if self.Q.get(disc_state,{}) != {}:\n",
        "          return max(self.Q[disc_state].keys(),key=(lambda key : self.Q[disc_state][key]))\n",
        "        else:\n",
        "          return env.action_space.sample()\n",
        "\n",
        "\n",
        "    def train(self, episodes = 1000, episode_max_length = 150, plot = False,\n",
        "              **kwargs):\n",
        "        \"\"\" Algorithme du Q-learning \"\"\"\n",
        "        # Modification éventuelle des hyperparamètres\n",
        "        for k,v in kwargs.items():\n",
        "            if hasattr(self, k):\n",
        "                setattr(self, k, v)\n",
        "        # Pour l'affichage des courbes\n",
        "        if plot:\n",
        "            with plot:\n",
        "                liveplot = PlotLosses()\n",
        "        total_rewards_training = [] # récompenses totales pour tout l'entraînement\n",
        "        final_rewards_training = [] # récompenses finales pour tout l'entraînement\n",
        "        # Algorithme\n",
        "        for ep in tqdm(range(episodes)):\n",
        "            # Etat initial\n",
        "            real_state = env.reset()\n",
        "            # Etat initial discrétisé\n",
        "            disc_state = self.discrete_state(real_state)\n",
        "            episode_reward = 0 # récompense totale pour l'épisode courant\n",
        "            done = False # est-ce que l'épisode est fini\n",
        "            i = 0 # indice de l'itération de simulation dans l'épisode\n",
        "            # Boucle Episode :\n",
        "            while i < episode_max_length:\n",
        "                # Choisir dynamiquement une action en fonction du facteur epsilon :\n",
        "                # Faire par exemple un tirage aléatoire dans [0;1] et comparer à epsilon\n",
        "                nombre = random.random()\n",
        "                # Si le tirage est en dessous de epsilon :\n",
        "                if nombre < self.epsilon:\n",
        "                #       => exploration (choix d'une action aléatoire)\n",
        "                    action = env.action_space.sample()\n",
        "                # Si le tirage est au dessus de epsilon :\n",
        "                else:\n",
        "                #       => exploitation (utiliser Q pour trouver la meilleure action dans l'état courant)\n",
        "                    action = self.best_action(disc_state)\n",
        "                # Récupérer le nouvel état du monde, la récompense, l'état de finalité, etc. en effectuant l'action choisie\n",
        "                new_real_state, reward, done, _ = env.step(action)\n",
        "                # Discétiser le nouvel état du monde\n",
        "                new_disc_state = self.discrete_state(new_real_state)\n",
        "                # Mettre à jour Q en passant l'état courant (discret), l'action effectuée,\n",
        "                # la récompense obtenue, et le nouvel état (discret)\n",
        "                self.update_Q(disc_state, action, reward, new_disc_state)\n",
        "                # Accumuler la récompense\n",
        "                episode_reward += reward*self.gamma\n",
        "                # Mettre à jour les états en mémoire\n",
        "                real_state = new_real_state\n",
        "                disc_state = new_disc_state\n",
        "                # Lorsque c'est fini:\n",
        "                if done == True:\n",
        "                    # Stocker la récompense finale\n",
        "                    final_reward = reward\n",
        "                    break\n",
        "                # Timestep suivant\n",
        "                i+=1\n",
        "            # Optionel: Implémenter le epsilon-decay\n",
        "            # A chaque fin d'épisode, multiplier epsilon par le facteur epsilon_decay,\n",
        "            # tant que ce premier est supérieur au seuil minimale min_epsilon\n",
        "            if self.epsilon > self.min_epsilon:\n",
        "              self.epsilon*= self.epsilon_decay\n",
        "            # Stockage des statisques globales\n",
        "            total_rewards_training.append(episode_reward)\n",
        "            final_rewards_training.append(final_reward)\n",
        "            # Affichage des courbes\n",
        "            if plot:\n",
        "                with plot:\n",
        "                    # Vous pouvez changer l'indice -5 ici pour avoir un lissage plus ou moins important de la courbe\n",
        "                    liveplot.update({\"Mean Total Reward\": np.mean(total_rewards_training[-5:]), \"Episode Total Reward\":episode_reward})\n",
        "                    if ep % 50 == 0: # Changer le modulo pour un rafraichissement plus/moins fréquent\n",
        "                        liveplot.send()\n",
        "        # Affichage des stats globales\n",
        "        print(f\"Mean Total Reward on all episodes: {np.mean(total_rewards_training)}\")\n",
        "        print(f\"Mean Final Reward on all episodes: {np.mean(final_rewards_training)}\")\n",
        "        # Retour des scores\n",
        "        return total_rewards_training\n",
        "\n",
        "    def predict_action(self, real_state):\n",
        "        \"\"\" Donne la meilleure action à prendre sachant l'état réel en paramètre \"\"\"\n",
        "        disc_state = self.discrete_state(real_state)\n",
        "        action = self.best_action(disc_state)\n",
        "        return action\n",
        "    \n",
        "    def simul_sequence(self, episode_max_length = 150, render = True):\n",
        "        \"\"\" Effectue une simulation de l'agent avec le Q courant \"\"\"\n",
        "        env = self.env\n",
        "        if render:\n",
        "            # Activer la capture vidéo\n",
        "            env = start_capture(env)\n",
        "        # Observation initiale\n",
        "        observation = env.reset()\n",
        "        trajectory = [observation]\n",
        "        total = 0 \n",
        "        for t in range(episode_max_length):\n",
        "            # Choisir la meilleure action possible en fonction de l'observation/état\n",
        "            action = self.predict_action(observation)\n",
        "            # Effectuer l'action\n",
        "            observation, reward, done, info = env.step(action)\n",
        "            trajectory.append(observation)\n",
        "            # Accumuler la récompense\n",
        "            total += reward\n",
        "            if done:\n",
        "                print(\"Episode finished after {} timesteps\".format(t+1))\n",
        "                # Stocker la récompense finale\n",
        "                final = reward\n",
        "                break\n",
        "        env.close()\n",
        "        trajectory = np.array(trajectory)\n",
        "        return final, total, trajectory"
      ],
      "execution_count": 27,
      "outputs": []
    },
    {
      "cell_type": "code",
      "metadata": {
        "id": "sBbhzbt0wYro"
      },
      "source": [
        "agent = QLearner_LunarLander(env, discretizer)"
      ],
      "execution_count": 28,
      "outputs": []
    },
    {
      "cell_type": "code",
      "metadata": {
        "id": "-oxo6QQFbML4",
        "colab": {
          "base_uri": "https://localhost:8080/",
          "height": 652,
          "referenced_widgets": [
            "5763e7662c44452aa5a2003a49750994",
            "4cd5d912f84e4227a5101a73f05386f0"
          ]
        },
        "outputId": "5a9ff343-acbf-4330-ea38-143664ff005c"
      },
      "source": [
        "PLOT_CONTEXT = Output()\n",
        "display(PLOT_CONTEXT)"
      ],
      "execution_count": 29,
      "outputs": [
        {
          "output_type": "display_data",
          "data": {
            "application/vnd.jupyter.widget-view+json": {
              "model_id": "5763e7662c44452aa5a2003a49750994",
              "version_minor": 0,
              "version_major": 2
            },
            "text/plain": [
              "Output()"
            ]
          },
          "metadata": {
            "tags": []
          }
        }
      ]
    },
    {
      "cell_type": "code",
      "metadata": {
        "id": "zRQhHmZwZTAo",
        "colab": {
          "base_uri": "https://localhost:8080/",
          "height": 99,
          "referenced_widgets": [
            "d77bf6775e28465fa1b204fabb47c1db",
            "68a524fc756c4f53b13b6e12de307041",
            "68f91b05aa014f328ec65e44e5465b48",
            "a40f71855d8d484fa92c45ae9671b1eb",
            "832da60e04de4019b5862abde99aab8a",
            "801f52f8bcd44ebf985997de5b798910",
            "ca46a48024c7445e9eeef30b81635989",
            "613db2d001654693952091d34fb5a7c7"
          ]
        },
        "outputId": "8da936a1-9bde-45b9-f466-a469c897ceaa"
      },
      "source": [
        "# Entrainer l'agent\n",
        "# Essayez différents hyperparamètres\n",
        "scores = agent.train(episodes=1000, episode_max_length=250,\n",
        "                     epsilon = 0.2, alpha = 0.7, gamma = 0.9,\n",
        "                     plot=PLOT_CONTEXT)"
      ],
      "execution_count": 30,
      "outputs": [
        {
          "output_type": "display_data",
          "data": {
            "application/vnd.jupyter.widget-view+json": {
              "model_id": "d77bf6775e28465fa1b204fabb47c1db",
              "version_minor": 0,
              "version_major": 2
            },
            "text/plain": [
              "HBox(children=(FloatProgress(value=0.0, max=1000.0), HTML(value='')))"
            ]
          },
          "metadata": {
            "tags": []
          }
        },
        {
          "output_type": "stream",
          "text": [
            "\n",
            "Mean Total Reward on all episodes: -183.2832901999529\n",
            "Mean Final Reward on all episodes: -100.0\n"
          ],
          "name": "stdout"
        }
      ]
    },
    {
      "cell_type": "code",
      "metadata": {
        "id": "dys3kF3YwYro",
        "colab": {
          "base_uri": "https://localhost:8080/"
        },
        "outputId": "b90e6289-aa18-4ccc-9a94-b78c578b91c6"
      },
      "source": [
        "# Faire une simulation une fois le modèle entrainé, et espérer...\n",
        "final, total, trajectory = agent.simul_sequence()"
      ],
      "execution_count": 31,
      "outputs": [
        {
          "output_type": "stream",
          "text": [
            "Episode finished after 96 timesteps\n"
          ],
          "name": "stdout"
        }
      ]
    },
    {
      "cell_type": "code",
      "metadata": {
        "id": "_lOlHWv0cB6n",
        "colab": {
          "base_uri": "https://localhost:8080/",
          "height": 421
        },
        "outputId": "5af08095-37f7-4f4c-e6fd-756f0bd5ad09"
      },
      "source": [
        "# Mouais... :P\n",
        "show_video()"
      ],
      "execution_count": 32,
      "outputs": [
        {
          "output_type": "display_data",
          "data": {
            "text/html": [
              "<video alt=\"test\" autoplay \n",
              "                        loop controls style=\"height: 400px;\">\n",
              "                        <source src=\"data:video/mp4;base64,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\" type=\"video/mp4\" />\n",
              "                    </video>"
            ],
            "text/plain": [
              "<IPython.core.display.HTML object>"
            ]
          },
          "metadata": {
            "tags": []
          }
        }
      ]
    },
    {
      "cell_type": "code",
      "metadata": {
        "id": "reB5Yl7EvmXL",
        "colab": {
          "base_uri": "https://localhost:8080/",
          "height": 268
        },
        "outputId": "53c639cb-a014-4fe6-ebbd-fbde251463b2"
      },
      "source": [
        "# On peut observer l'évolution des variables au cours de la simulation\n",
        "%matplotlib inline\n",
        "fig, axs = plt.subplots(8)\n",
        "for i in range(8):\n",
        "    axs[i].plot(trajectory[:,i])\n",
        "    axs[i].yaxis.set_label_position(\"right\")\n",
        "    axs[i].set_ylabel(OBS_SPACE[i], rotation=0, labelpad=5, horizontalalignment='left')"
      ],
      "execution_count": 33,
      "outputs": [
        {
          "output_type": "display_data",
          "data": {
            "image/png": "[encoded data removed]",
            "text/plain": [
              "<Figure size 432x288 with 8 Axes>"
            ]
          },
          "metadata": {
            "tags": [],
            "needs_background": "light"
          }
        }
      ]
    },
    {
      "cell_type": "markdown",
      "metadata": {
        "id": "1JyAjhwpwYrp"
      },
      "source": [
        "## III) Evaluation du modèle et Conclusion Partie 1: \n",
        "On peut évaluer le succès du modèle en répétant les simulations: \n",
        "\n",
        "  - récompense moyenne sur N simulations après entrainement.\n",
        "  - bonus: même chose divisée par nb d'échantillonages pour mesurer l'efficacité de l'entrainement.\n",
        "\n",
        "Mais rien que de visu, vous devriez vous apercevoir que le modèle ne fonctionne pas très bien... **A votre avis, pourquoi?**\n",
        "\n",
        "*Indice: Calculez la taille de l'espace d'état discrétisé, et comparez la à la taille de votre dictionnaire d'états Q après entraînement de l'agent.*"
      ]
    },
    {
      "cell_type": "code",
      "metadata": {
        "id": "_ZdV6BtxwYrp",
        "colab": {
          "base_uri": "https://localhost:8080/"
        },
        "outputId": "9e085837-d764-4f90-cc8c-a48b4ba878d5"
      },
      "source": [
        "# Calculez la taille de l'espace d'état discrétisé (en fonction de N_Bins)\n",
        "taille_espace_etat_disc = 15*2 + 10*2 + 8 + 3 + 2 + 2\n",
        "print(\"Taille de l'espace d'état discrétisé : \",taille_espace_etat_disc)\n",
        "# et comparer au Q de l'agent\n",
        "taille_Q=0\n",
        "for cle, valeur in agent.Q.items():\n",
        "  for cle2, valeur2 in agent.Q[cle].items():\n",
        "    taille_Q +=1\n",
        "print(\"Taille de la Q table : \",taille_Q)"
      ],
      "execution_count": 39,
      "outputs": [
        {
          "output_type": "stream",
          "text": [
            "Taille de l'espace d'état discrétisé :  65\n",
            "Taille de la Q table :  16941\n"
          ],
          "name": "stdout"
        }
      ]
    },
    {
      "cell_type": "markdown",
      "metadata": {
        "id": "VdKG_e7QTlFu"
      },
      "source": [
        "**Comment pourrait-on améliorer l'agent ?**\r\n",
        "\r\n",
        "Dans notre cas ici présent, nous ne pouvons avoir un espace d'état continu. En effet, le Q learning nécessite un espace discret et c'est pour cette raison que nous avons dû discretiser ce dernier. Comme nous avons pu le remarquer au travers de nos résultats, cette méthode présente de nombreuses limites. Cette discrétisation peut entrainer un mauvais choix d'action par notre agent car nous passons d'une infinité d'état à un nombre extrêmement réduit d'états discrets nous faisons perdre beaucoup d'information.\r\n",
        "\r\n",
        "L'utilisation d'un autre type d'agent d'apprentissage par renforcement pouvant travailler avec un espace d'oberservation et d'action continu tel que le DDPG ou l'A3C pourrait s'avérer plus judicieux dans ce cas. L'utilisation d'un réseau de neurones pourrait également nous apporter de meilleurs résultats plutôt qu'une table de Q learning."
      ]
    },
    {
      "cell_type": "markdown",
      "metadata": {
        "id": "_r5kdA0TTtW1"
      },
      "source": [
        "# **Partie 2 : DQN**"
      ]
    },
    {
      "cell_type": "markdown",
      "metadata": {
        "id": "WdpLw_X2aOil"
      },
      "source": [
        "## I) Implémentation Naïve\n",
        "**Attention :** Cette partie est très difficile, essayez si vous allez vite, mais sinon lisez et passez à la suite."
      ]
    },
    {
      "cell_type": "code",
      "metadata": {
        "id": "OQk3z77ZWJ_-"
      },
      "source": [
        "import tensorflow as tf\n",
        "from tensorflow import keras"
      ],
      "execution_count": 37,
      "outputs": []
    },
    {
      "cell_type": "markdown",
      "metadata": {
        "id": "EBaz-juPT0-1"
      },
      "source": [
        "Dans cette partie on va donc essayer d'améliorer l'agent, en utilisant un/des modèle(s) neuronaux.\n",
        "\n",
        "Dans un premier temps, vous pouvez essayer vous-même de dériver votre QLearner discrétisé en remplaçant le dictionnaire de dictionnaires Q par un réseau de neurones, qui associe à un vecteur d'observations/état en entrée, un vecteurs de Q-valeurs pour chaque action possible dans le jeu à cet état.\n",
        "\n",
        "Voici un exemple de modèle que vous pourriez utiliser:"
      ]
    },
    {
      "cell_type": "code",
      "metadata": {
        "id": "n1bo-Kq3TssI"
      },
      "source": [
        "OBS_SPACE_SIZE = taille_espace_etat_disc # la taille de l'espace d'état discrétisé\n",
        "ACTION_SPACE_SIZE = 1 # la taille de l'espace d'actions\n",
        "N_NEURONS = 256 # le nombre de neurones pour les couches cachées\n",
        "\n",
        "model = keras.Sequential([\n",
        "            keras.layers.Dense(N_NEURONS, activation='relu',\n",
        "                            input_dim=OBS_SPACE_SIZE),\n",
        "            # Vous pouvez essayer avec différents nombre de couches cachées :\n",
        "            # keras.layers.Dense(N_NEURONS, activation='relu'),\n",
        "            # ...\n",
        "            keras.layers.Dense(ACTION_SPACE_SIZE, activation='linear') # activation linéaire sur la couche de sortie ici :\n",
        "            # les Q-valeurs ne sont en effet pas une distribution de probabilités, aucune raisons que leur somme fasse 1,\n",
        "            # et pas de raison non-plus qu'elles aient un comportement non-linéaire\n",
        "        ])"
      ],
      "execution_count": 40,
      "outputs": []
    },
    {
      "cell_type": "markdown",
      "metadata": {
        "id": "ip4enaQaXSRZ"
      },
      "source": [
        "La question important est: comment et à quelle moment est-ce que l'on entraîne ce modèle ?\n",
        "\n",
        "Regardez la formule de mise à jour de Q dans la version classique du Q-learning. Est-ce que cela vous rappelle quelque-chose ? (*Pensez à ce à quoi alpha correspond dans le Q-learning et dans la rétro-propagation des réseaux de neurones*).\n",
        "\n",
        "Comment pourrait-on adapter cela en objectif pour le modèle neuronal ?"
      ]
    },
    {
      "cell_type": "code",
      "metadata": {
        "id": "GKFcPPowXQhG"
      },
      "source": [
        "# Essayez de dériver de votre classe\n",
        "class DeepQLearner_LunarLander(QLearner_LunarLander):\n",
        "    \"\"\" Implémente le Deep Q Learning \"\"\"\n",
        "\n",
        "    def __init__(self, env, discretizer, learning_rate = .0005):\n",
        "        super().__init__(env, discretizer)\n",
        "        self.learning_rate = learning_rate\n",
        "        self.Q = ...\n",
        "        # Rappelez vous bien de compiler le modèle\n",
        "        # Je vous conseil ces paramètres: la loss \"mse\" est Mean Squared Errors\n",
        "        # soit l'erreur quadratique moyenne\n",
        "        adam = keras.optimizers.Adam(lr = self.learning_rate)\n",
        "        self.Q.compile(loss='mse', optimizer=adam)\n",
        "\n",
        "    # Ré-implémentez les méthodes qui ont besoin de l'être..."
      ],
      "execution_count": null,
      "outputs": []
    },
    {
      "cell_type": "markdown",
      "metadata": {
        "id": "esC853aDficw"
      },
      "source": [
        "Notez par contre qu'utiliser `.fit` et `.predict` dans la boucle de simulation serait très lent (ces fonctions ne sont pas prévues pour être utilisées dans des boucles):\n",
        "- A la place de `.fit(X,y)`, vous pouvez utiliser `.train_on_batch(X,y)` qui est plus rapide (par contre, comme son nom l'indique, `train_on_batch` considère que `X, y` sont déjà sous forme d'un batch, mais ici c'est ce que nous voulons car nous entraînons le modèle \"en ligne\", au fur et à mesure que l'on fait tourner la simulation, avec un batch de taille 1 à chaque fois).\n",
        "- A la place de `model.predict(X)`, vous pouvez utiliser `model(X, training=False).numpy()` (attention par contre à bien respecter le format d'entrée du modèle)."
      ]
    },
    {
      "cell_type": "code",
      "metadata": {
        "id": "XKbP29ewfhiV"
      },
      "source": [
        "# Entrainer le modèle (sur peu d'époques, une dizaine par exemple, il se peut que cela soit très long)\n",
        "# Juste pour voir si ça marche, contiuez à lire après"
      ],
      "execution_count": null,
      "outputs": []
    },
    {
      "cell_type": "markdown",
      "metadata": {
        "id": "JujXrdude032"
      },
      "source": [
        "Refaites éventuellement des tests avec des simulations. Est-ce que cela semble marcher mieux ? Pourquoi à votre avis ?"
      ]
    },
    {
      "cell_type": "code",
      "metadata": {
        "id": "uywQNNh5e9cM"
      },
      "source": [
        ""
      ],
      "execution_count": null,
      "outputs": []
    },
    {
      "cell_type": "markdown",
      "metadata": {
        "id": "FsECPAHNe96t"
      },
      "source": [
        "## II) Implémentation avec *Experience Replay*\n",
        "\n",
        "Vous avez potentiellement remarqué que l'approche naïve ne marche pas bien non plus. En effet, le problème est difficile à intuiter à priori: l'entraînement \"en ligne\", avec une seule Q-valeur à chaque fois, est non seulement très lent, mais en plus, les données d'apprentissage sont corrélées dans le temps (puisqu'elles proviennent de la simulation du jeu qui se fait timestep après timestep), alors qu'il faudrait qu'elles soient plus nombreuses et relativelement indépendantes et identiquement distribuées.\n",
        "\n",
        "Pour ce faire, on peut utiliser la méthode de *l'Experience Replay*: pour faire simple, au lieu de donner directement les instances d'entraînement au modèle, on va les stocker dans une \"mémoire\" dans l'agent, puis, à chaque timestep, on va échantilloner aléatoirement un mini-batch de taille donnée de cette mémoire, et entraîner le modèle dessus.\n",
        "\n"
      ]
    },
    {
      "cell_type": "markdown",
      "metadata": {
        "id": "1HRIfZeDivnN"
      },
      "source": [
        "Vous pouvez essayer de l'implémenter, mais c'est relativement dur, donc voici une implémentation déjà faite:"
      ]
    },
    {
      "cell_type": "code",
      "metadata": {
        "id": "tFuoQ4LnjPNl"
      },
      "source": [
        "import tensorflow as tf\n",
        "from tensorflow import keras\n",
        "from collections import deque\n",
        "import random\n",
        "\n",
        "experience_type = [('state', object),\n",
        "                   ('action', int),\n",
        "                   ('reward', float),\n",
        "                   ('new_state', object),\n",
        "                   ('done', bool)]\n",
        "\n",
        "class DQLearner_LunarLander():\n",
        "    \"\"\" Implémente le Deep Q Learning \"\"\"\n",
        "    def __init__(self, env,\n",
        "                 learning_rate = .0005, memory_size = 5000,\n",
        "                 minibatch_size = 32):\n",
        "        self.env = env\n",
        "        self.learning_rate = learning_rate\n",
        "        self.memory_size = memory_size\n",
        "        self.minibatch_size = minibatch_size\n",
        "        \n",
        "        self.a_space_size = self.env.action_space.n\n",
        "        self.o_space_size = self.env.observation_space.shape[0]\n",
        "        \n",
        "        self.current_Q = self.make_model()\n",
        "        self.episode_Q = self.make_model()\n",
        "        self.memory = deque(maxlen = self.memory_size)\n",
        "        \n",
        "    def make_model(self):\n",
        "        model = keras.Sequential([\n",
        "            keras.layers.Dense(64, activation='relu',\n",
        "                            input_dim=self.o_space_size),\n",
        "            keras.layers.Dense(64, activation='relu'),\n",
        "            keras.layers.Dense(self.a_space_size, activation='linear')\n",
        "        ])\n",
        "        adam = keras.optimizers.Adam(lr = self.learning_rate)\n",
        "        model.compile(loss='mse', optimizer=adam)\n",
        "        return model\n",
        "    \n",
        "    def add_memory(self, state, action, reward, new_state, done):\n",
        "        self.memory.append((state, action, reward, new_state, done))\n",
        "        \n",
        "    def update_current_Q(self):\n",
        "        self.current_Q.set_weights(self.episode_Q.get_weights())\n",
        "    \n",
        "    def replay_experiences(self):\n",
        "        # sample a minibatch from memory\n",
        "        minibatch = np.array(random.sample(self.memory, self.minibatch_size),\n",
        "                            dtype = experience_type)\n",
        "        # get indices where the experience was not done\n",
        "        not_done_indices = np.where(minibatch[\"done\"] == False)\n",
        "        # get target rewards from minibatch\n",
        "        target_rewards = minibatch[\"reward\"].copy()\n",
        "        \n",
        "        # if mini-batch contains non-done experiences, we have to apply gamma updates\n",
        "        if len(not_done_indices) > 0:\n",
        "            NS = np.vstack(minibatch[\"new_state\"])\n",
        "            # action predictions for the current Q model\n",
        "            pred_next_actions_current_Q = self.serve_current_Q(NS).numpy()\n",
        "            # action predictions for this episode's Q model\n",
        "            pred_next_actions_episode_Q = self.serve_episode_Q(NS).numpy()\n",
        "\n",
        "            # grab the action predictions for the not-done experiences\n",
        "            pred_not_done = pred_next_actions_episode_Q[not_done_indices, :].squeeze()\n",
        "            # grab the best actions indices from those\n",
        "            best_actions = np.argmax(pred_not_done, axis=1)\n",
        "            # grab the current Q values for those actions\n",
        "            current_Q_for_best_actions = pred_next_actions_current_Q[not_done_indices, best_actions].squeeze()\n",
        "            # add the gamma * current Q values for those actions\n",
        "            target_rewards[not_done_indices] += np.multiply(0.9993, current_Q_for_best_actions)\n",
        "\n",
        "        S = np.vstack(minibatch[\"state\"])\n",
        "        # compute episode predicted actions\n",
        "        target_actions = self.serve_episode_Q(S).numpy()\n",
        "        # update the appropriate values with the computed target rewards\n",
        "        target_actions[range(len(minibatch)), minibatch[\"action\"]] = target_rewards\n",
        "        # fit the episode's model onto those target actions\n",
        "        self.episode_Q.train_on_batch(S, target_actions)\n",
        "\n",
        "    @tf.function \n",
        "    def serve_episode_Q(self, x):\n",
        "        return self.episode_Q(x, training=False)\n",
        "\n",
        "    @tf.function\n",
        "    def serve_current_Q(self, x):\n",
        "        return self.current_Q(x, training=False)\n",
        "\n",
        "    def best_action(self, real_state):\n",
        "        action = self.serve_episode_Q(real_state.reshape(1,-1)).numpy().argmax()\n",
        "        return int(action)\n",
        "    \n",
        "    def train(self, alpha = .0005, gamma = .9993, epsilon = 1, min_epsilon = 0.01, epsilon_decay = 0.9993,\n",
        "              episodes = 1000, episode_max_length = 150, plot = False):\n",
        "        if plot:\n",
        "            with plot:\n",
        "                liveplot = PlotLosses()\n",
        "        total_rewards_training = [] # total rewards for all episodes\n",
        "        final_rewards_training = [] # final rewards for all episodes\n",
        "        #  Q-learning Algorithm\n",
        "        for ep in tqdm(range(episodes)):\n",
        "            # Reset environment -> starting state\n",
        "            real_state = self.env.reset()\n",
        "            episode_reward = 0\n",
        "            done = False\n",
        "            i = 0\n",
        "            # running an episode\n",
        "            while i < episode_max_length:\n",
        "                chance = np.random.rand(1)\n",
        "                if chance<epsilon:\n",
        "                    # take random action (exploration)\n",
        "                    action = self.env.action_space.sample()\n",
        "                else:\n",
        "                    # take best action (exploitation)\n",
        "                    action = self.best_action(real_state)\n",
        "\n",
        "                #Get new state & reward from environment\n",
        "                new_real_state, reward, done, _ = self.env.step(action)\n",
        "                # Record memory\n",
        "                self.add_memory(real_state, action, reward, new_real_state, done)\n",
        "                # if enough experiences\n",
        "                if len(self.memory) > self.minibatch_size:\n",
        "                    # Experience Replay\n",
        "                    self.replay_experiences()\n",
        "                \n",
        "                episode_reward += reward\n",
        "                real_state = new_real_state\n",
        "                \n",
        "                if done == True:\n",
        "                    final_reward = reward\n",
        "                    # Update the Current Q model with the learned Episode Q model weights\n",
        "                    self.update_current_Q()\n",
        "                    break\n",
        "                i+=1\n",
        "            # epsilon decay\n",
        "            if epsilon > min_epsilon and epsilon_decay:\n",
        "                epsilon *= epsilon_decay\n",
        "            \n",
        "            total_rewards_training.append(episode_reward)\n",
        "            final_rewards_training.append(final_reward)\n",
        "            if plot:\n",
        "                with plot:\n",
        "                    liveplot.update({\"Mean Total Reward\": np.mean(total_rewards_training[-5:]), \"Episode Total Reward\":episode_reward})\n",
        "                    if ep%2==0:\n",
        "                        liveplot.send()\n",
        "\n",
        "        print(f\"Mean Total Reward on all episodes: {np.mean(total_rewards_training)}\")\n",
        "        print(f\"Mean Final Reward on all episodes: {np.mean(final_rewards_training)}\")\n",
        "        # final Q table updated is in self.Q\n",
        "        return total_rewards_training\n",
        "    \n",
        "    def simul_sequence(self, episode_max_length = 150, render = True):\n",
        "        \"\"\"\n",
        "        sampling episode with prediction of best action\n",
        "        \"\"\"\n",
        "        env = self.env\n",
        "        if render:\n",
        "            # Activer la capture vidéo\n",
        "            env = start_capture(env)\n",
        "        observation = env.reset()\n",
        "        trajectory = [observation]\n",
        "        total = 0\n",
        "        final = 0\n",
        "        for t in tqdm(range(episode_max_length)):\n",
        "            action = self.best_action(observation)\n",
        "            observation, reward, done, info = env.step(action)\n",
        "            trajectory.append(observation)\n",
        "            total += reward\n",
        "            if done:\n",
        "                print(\"Episode finished after {} timesteps\".format(t+1))\n",
        "                final = reward\n",
        "                break\n",
        "        env.close()\n",
        "        trajectory = np.array(trajectory)\n",
        "        return final, total, trajectory"
      ],
      "execution_count": 41,
      "outputs": []
    },
    {
      "cell_type": "markdown",
      "metadata": {
        "id": "_sfAuG4LjaDf"
      },
      "source": [
        "Vous pouvez essayer de l'entraîner un petit peu (c'est plus long encore), pour voir les courbes de tendances:"
      ]
    },
    {
      "cell_type": "code",
      "metadata": {
        "id": "2GBP9i5TjZK5"
      },
      "source": [
        "env = gym.make(\"LunarLander-v2\")\r\n",
        "# on l'initialise sur un état de départ. \r\n",
        "env.reset()\r\n",
        "deepQ = DQLearner_LunarLander(env)"
      ],
      "execution_count": 43,
      "outputs": []
    },
    {
      "cell_type": "code",
      "metadata": {
        "id": "iHcG7iiqjfrq",
        "colab": {
          "base_uri": "https://localhost:8080/",
          "height": 513,
          "referenced_widgets": [
            "c7eef907a3df4c1f922d8284e49fe93d",
            "0394ff8bc68d44dcaef300669a88c7f0"
          ]
        },
        "outputId": "10b4009f-6041-4d1b-c440-b6ef9f1c4db2"
      },
      "source": [
        "PLOT_CONTEXT = Output()\n",
        "display(PLOT_CONTEXT)"
      ],
      "execution_count": 44,
      "outputs": [
        {
          "output_type": "display_data",
          "data": {
            "application/vnd.jupyter.widget-view+json": {
              "model_id": "c7eef907a3df4c1f922d8284e49fe93d",
              "version_minor": 0,
              "version_major": 2
            },
            "text/plain": [
              "Output()"
            ]
          },
          "metadata": {
            "tags": []
          }
        }
      ]
    },
    {
      "cell_type": "code",
      "metadata": {
        "id": "ClgI6EHejgxM",
        "colab": {
          "base_uri": "https://localhost:8080/",
          "height": 99,
          "referenced_widgets": [
            "30aee5a0178a4f4e8685aa5566fd7b4f",
            "50056f53725947148e2a3ecc056873e0",
            "8ea8c8b49b514f2b8355fa444f1df2d7",
            "2945f0557ffb4d70badb9f812c87c0b3",
            "ab1ec7ef25834fc1bcf12a123d70804e",
            "3331c1dc27a24fbea565af953ec04205",
            "69b2ffea24904a6db04457ace9e4d159",
            "5c2914aa7d344565bb62a748decd8b1f"
          ]
        },
        "outputId": "acbf08eb-4a53-4792-f87c-c849e6f55bc7"
      },
      "source": [
        "# Diminuez le nombre d'episodes si c'est trop lent sur votre machine\n",
        "# Avec 250 episodes, on commence à apercevoir la tendance générale normalement\n",
        "scores = deepQ.train(episodes=250, plot=PLOT_CONTEXT)"
      ],
      "execution_count": 45,
      "outputs": [
        {
          "output_type": "display_data",
          "data": {
            "application/vnd.jupyter.widget-view+json": {
              "model_id": "30aee5a0178a4f4e8685aa5566fd7b4f",
              "version_minor": 0,
              "version_major": 2
            },
            "text/plain": [
              "HBox(children=(FloatProgress(value=0.0, max=250.0), HTML(value='')))"
            ]
          },
          "metadata": {
            "tags": []
          }
        },
        {
          "output_type": "stream",
          "text": [
            "\n",
            "Mean Total Reward on all episodes: -150.58726735514023\n",
            "Mean Final Reward on all episodes: -100.0\n"
          ],
          "name": "stdout"
        }
      ]
    },
    {
      "cell_type": "markdown",
      "metadata": {
        "id": "2k5Jx9q3jtIW"
      },
      "source": [
        "Pour gagner du temps, j'ai entraîné ce modèle pendant 1h30 (5000 épisodes) pour vous. Exécuter ces cellules pour charger les poids appris dans le modèle."
      ]
    },
    {
      "cell_type": "code",
      "metadata": {
        "id": "X8eSPuH9PC7p"
      },
      "source": [
        "url = \"https://drive.google.com/uc?export=download&id=10Stakliwyhsv3DCLc7rfABrEvkLeMfVQ\"\n",
        "\n",
        "from io import BytesIO\n",
        "from zipfile import ZipFile\n",
        "from urllib.request import urlopen\n",
        "\n",
        "resp = urlopen(url)\n",
        "zipfile = ZipFile(BytesIO(resp.read()))\n",
        "zipfile.extractall()"
      ],
      "execution_count": 46,
      "outputs": []
    },
    {
      "cell_type": "code",
      "metadata": {
        "id": "TRi_hrKEPMXp"
      },
      "source": [
        "Q = keras.models.load_model(\"Q.h5\")\n",
        "\n",
        "deepQ = DQLearner_LunarLander(env)\n",
        "deepQ.current_Q = Q\n",
        "deepQ.episode_Q = Q\n",
        "deepQ.current_Q.load_weights(\"Q.h5\")\n",
        "deepQ.episode_Q.load_weights(\"Q.h5\")"
      ],
      "execution_count": 47,
      "outputs": []
    },
    {
      "cell_type": "markdown",
      "metadata": {
        "id": "PBwSW_rvkkQt"
      },
      "source": [
        "Regardons ce que cela donne :)\n",
        "\n",
        "Ca ne marche pas à tout les coups évidemment, essayez plusieurs fois, puis refaites des simulations pour calculer les performances."
      ]
    },
    {
      "cell_type": "code",
      "metadata": {
        "id": "AFJQUaj7kgEW",
        "colab": {
          "base_uri": "https://localhost:8080/",
          "height": 99,
          "referenced_widgets": [
            "1ab3d793cc5042c6bcbb86d9d9094948",
            "546202bb3cb94737abc6177bbd784097",
            "703004f312b0400c8bc20c55d838a1f8",
            "6d8ed462b04f4a2b869cd50bbc829a4c",
            "6e5debd071664864a362fe3cb0ad6e51",
            "37971637981e442f8288966d485eae7d",
            "371c0156ba3044319d22846c7cb5f29f",
            "61e3a39d4f954fd9b3cb13f0f29b644c"
          ]
        },
        "outputId": "c6218085-b1b0-409a-f23d-d663e7e48803"
      },
      "source": [
        "# Essayez différentes valeurs de episode_max_length... \n",
        "# Est-ce que vous remarquez quelque-chose d'étrange ?\n",
        "final, total, trajectory = deepQ.simul_sequence(episode_max_length=300)\n",
        "print(\"final reward =\", final)\n",
        "print(\"total reward =\", total)"
      ],
      "execution_count": 54,
      "outputs": [
        {
          "output_type": "display_data",
          "data": {
            "application/vnd.jupyter.widget-view+json": {
              "model_id": "1ab3d793cc5042c6bcbb86d9d9094948",
              "version_minor": 0,
              "version_major": 2
            },
            "text/plain": [
              "HBox(children=(FloatProgress(value=0.0, max=300.0), HTML(value='')))"
            ]
          },
          "metadata": {
            "tags": []
          }
        },
        {
          "output_type": "stream",
          "text": [
            "\n",
            "final reward = 0\n",
            "total reward = 101.1098703693199\n"
          ],
          "name": "stdout"
        }
      ]
    },
    {
      "cell_type": "markdown",
      "metadata": {
        "id": "msERdq1Fxkkp"
      },
      "source": [
        "Nous remarquons que plue la valeur de episode_max_length est grande et plus la total reward sera faible."
      ]
    },
    {
      "cell_type": "code",
      "metadata": {
        "id": "9aYhQuimknKF",
        "colab": {
          "base_uri": "https://localhost:8080/",
          "height": 421
        },
        "outputId": "e224d8a5-c907-4bcc-a6cb-33854a95613d"
      },
      "source": [
        "show_video()"
      ],
      "execution_count": 55,
      "outputs": [
        {
          "output_type": "display_data",
          "data": {
            "text/html": [
              "<video alt=\"test\" autoplay \n",
              "                        loop controls style=\"height: 400px;\">\n",
              "                        <source src=\"data:video/mp4;base64,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\" type=\"video/mp4\" />\n",
              "                    </video>"
            ],
            "text/plain": [
              "<IPython.core.display.HTML object>"
            ]
          },
          "metadata": {
            "tags": []
          }
        }
      ]
    },
    {
      "cell_type": "code",
      "metadata": {
        "id": "9rkX70AKkyV0"
      },
      "source": [
        "# Calculer les performances en faisant plusieurs simulations\n",
        "..."
      ],
      "execution_count": null,
      "outputs": []
    },
    {
      "cell_type": "markdown",
      "metadata": {
        "id": "p0mFTFvpnx0Y"
      },
      "source": [
        "Vous devriez remarquer que mon agent a un comportement assez étrange (jouez avec le paramètre `episode_max_length` pour la simulation). \n",
        "\n",
        "A votre avis, à quoi est-ce dû ? \n",
        "\n",
        "Quelle erreur ai-je commise en paramétrant l'entraînement ? (*Voir le code de la classe plus haut, en particulier les paramètres liés à la simulation*).\n",
        "\n",
        "Comment pourrait-on régler le problème (sans repartir de zéro nécessairement) ?"
      ]
    },
    {
      "cell_type": "code",
      "metadata": {
        "id": "6aCNF2rqoVCJ"
      },
      "source": [
        ""
      ],
      "execution_count": null,
      "outputs": []
    }
  ]
}